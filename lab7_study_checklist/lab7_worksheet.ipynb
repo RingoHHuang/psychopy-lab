{
 "cells": [
  {
   "cell_type": "markdown",
   "id": "a4cbf08d",
   "metadata": {},
   "source": [
    "# Lab 7 - Creating a Study Checklist\n",
    "\n",
    "I want to gear today's lab towards helping you create your experiments. Today, we will learn about randomization, but also do a high-level review of the major steps in building PsychoPy experiments. I've created a memory study template for visual stimuli that you can work off of. We will review the main steps that go into each experiment. As we go through each step, if you have specific questions pertinent to your own experiment or want me to go into more detail, feel free to ask!"
   ]
  },
  {
   "cell_type": "markdown",
   "id": "2bd8c473",
   "metadata": {},
   "source": [
    "## Random Assignment\n",
    "\n",
    "Most studies will involve multiple counterbalanced or experimental conditions. You would aim to have the number of subjects in each condition to be equal and randomly assign participants to one of your conditions.\n",
    "\n",
    "For your purposes, because we know all the subjects, we will do the random assignment ahead of time. **For your final projects, you will need to randomly assign your classmates to one of the conditions in your experiment.**\n",
    "\n",
    "We will go over an example of this process in a bit. But first, I want to review the `random.shuffle` method that we saw before, and to introduce the concept of a random seed.\n",
    "\n",
    "#### Random Seed\n",
    "\n",
    "\n",
    "With this approach, it's necessary to randomly shuffle the image sequence. You'll need to import the random module to do this.\n",
    "\n",
    "\n",
    "##### Ex 1: Using the `random.shuffle` method:"
   ]
  },
  {
   "cell_type": "code",
   "execution_count": null,
   "id": "adc5a5c2",
   "metadata": {},
   "outputs": [],
   "source": [
    "# import random module\n",
    "import random"
   ]
  },
  {
   "cell_type": "code",
   "execution_count": null,
   "id": "fc9bc58d",
   "metadata": {},
   "outputs": [],
   "source": [
    "# define a sequence to randomize:\n",
    "sequence = [1, 2, 3, 4, 5]\n",
    "\n",
    "# shuffle this sequence a few times:\n",
    "for i in range(4):\n",
    "    random.shuffle(sequence)\n",
    "    print(sequence)"
   ]
  },
  {
   "cell_type": "markdown",
   "id": "0d1daea9",
   "metadata": {},
   "source": [
    "##### Ex 2: Let's do the same thing as Ex 1, but this time we will first set a randomization seed:"
   ]
  },
  {
   "cell_type": "code",
   "execution_count": null,
   "id": "1ab6e88c",
   "metadata": {},
   "outputs": [],
   "source": [
    "# define a sequence to randomize:\n",
    "sequence = [1, 2, 3, 4, 5]\n",
    "\n",
    "# set a randomization seed (can be a character, string, integer, float):\n",
    "random.seed('ringo_huang')\n",
    "\n",
    "# shuffle this sequence a few times:\n",
    "for i in range(4):\n",
    "    random.shuffle(sequence)\n",
    "    print(sequence)"
   ]
  },
  {
   "cell_type": "markdown",
   "id": "7c4e4630",
   "metadata": {},
   "source": [
    "Notice what happens to the printed sequences when I repeatedly run the code block in Ex 1 versus when I run the code block in Ex 2? What is going on and why?"
   ]
  },
  {
   "cell_type": "markdown",
   "id": "7cb2acc2",
   "metadata": {},
   "source": [
    "##### Ex 3: Let's now re-seed with the same seed as Ex 2, and run `random.shuffle` a single time. Compare this shuffled sequence with the first sequence printed in Ex 2:"
   ]
  },
  {
   "cell_type": "code",
   "execution_count": null,
   "id": "96f4d50b",
   "metadata": {},
   "outputs": [],
   "source": [
    "# define a sequence to randomize:\n",
    "sequence = [1, 2, 3, 4, 5]\n",
    "\n",
    "# re-seed with the same seed as Ex 2:\n",
    "random.seed('ringo_huang')\n",
    "\n",
    "# shuffle once and compare this to the first shuffle call in Ex 2:\n",
    "random.shuffle(sequence)\n",
    "print(sequence)"
   ]
  },
  {
   "cell_type": "markdown",
   "id": "fc444034",
   "metadata": {},
   "source": [
    "You can think of a seed as a password that unlocks the sequences of your psuedo-random number generator (PRNG). If you pass the same seed to the same PRNG algorithm, you will unlock the same (psuedo)randomizated sequences. This can be an issue if you're not careful! For example, the default randomization seed for Matlab's PTB Shuffle function is the same whenever you launch a new session of Matlab. If you forget to re-seed after you start a new Matlab session you'd be \"randomizing\" with the same seed, and all your subjects may be getting the same sequence even though you thought they were random! \n",
    "\n",
    "The Python `random` module defaults to the OS time as the seed, and so it's not as much of a problem for PsychoPy experiments; however, it is still best practice to set a unique seed for each of your sessions. In your final projects, we expect you to seed your experiments with the participant's full name (e.g. `random.seed('ringo_huang')`)."
   ]
  },
  {
   "cell_type": "markdown",
   "id": "e3ee286f",
   "metadata": {},
   "source": [
    "## Example of Random Assignment - Your Presentation Dates!\n",
    "\n",
    "On Week 10, you will be presenting your final projects! Half of you are to present on Wednesday of Week 10, and the other half are to present on Friday.\n",
    "\n",
    "I need to randomly assign 4 of you to present on Wednesday and 4 of you to present on Friday. Right now, I still don't know who will go on Wednesday and who will go on Friday.\n",
    "\n",
    "We will go through every step of this random assignment together, so that there is complete transparency! In fact, I'll have you choose your own random seed.\n",
    "\n",
    "The objective here is twofold. At the end of this section, we'll know which 4 of our teams will present on Wednesday and which 4 will present on Friday. Additionally, you will be conducting a very similar procedure when you randomly assign your classmates to different conditions in your experiment."
   ]
  },
  {
   "cell_type": "markdown",
   "id": "bfb65486",
   "metadata": {},
   "source": [
    "**Step 1:** Identify the set of \"subjects\" (or groups in this example) that you need to randomly assign. Here, the eight groups are stored in a list of strings called `groups`. I'm only using the name of the group member whose first name occurs last alphabetically."
   ]
  },
  {
   "cell_type": "code",
   "execution_count": null,
   "id": "7b5a0165",
   "metadata": {},
   "outputs": [],
   "source": [
    "groups = ['Alex','Jesse','Jessica','Madeline','Nikki','Nila','Ray','Zongchan']"
   ]
  },
  {
   "cell_type": "markdown",
   "id": "16f6cc58",
   "metadata": {},
   "source": [
    "**Step 2:** Let's choose a seed for this randomization! I am placing the fate of your presentation date in your hands. The result of the PRNG algorithm will depend on the seed that you choose. The seed can be a word, a sentence, your favorite number, anything!"
   ]
  },
  {
   "cell_type": "code",
   "execution_count": null,
   "id": "fdaa2273",
   "metadata": {},
   "outputs": [],
   "source": [
    "random.seed('PINEapple8')"
   ]
  },
  {
   "cell_type": "markdown",
   "id": "631c0593",
   "metadata": {},
   "source": [
    "**Step 3**: Although there are many procedures for random assignment, I'll stick to using the `shuffle` method."
   ]
  },
  {
   "cell_type": "code",
   "execution_count": null,
   "id": "2306d9ed",
   "metadata": {},
   "outputs": [],
   "source": [
    "random.shuffle(groups)"
   ]
  },
  {
   "cell_type": "markdown",
   "id": "594ef44d",
   "metadata": {},
   "source": [
    "**Step 4**: After running Step 3, our `groups` list of teams is now randomly shuffled. For the final step, the first 4 teams in the shuffled list will be assigned to condition 1 (Wednesday) and the last 4 teams will be assigned to condition 2 (Friday)."
   ]
  },
  {
   "cell_type": "code",
   "execution_count": null,
   "id": "60fdbf1e",
   "metadata": {},
   "outputs": [],
   "source": [
    "wednesday_groups = groups[0:4]\n",
    "friday_groups = groups[4:8]"
   ]
  },
  {
   "cell_type": "markdown",
   "id": "d83fe34c",
   "metadata": {},
   "source": [
    "Let's put it all together!"
   ]
  },
  {
   "cell_type": "code",
   "execution_count": null,
   "id": "aa035824",
   "metadata": {},
   "outputs": [],
   "source": [
    "# groups:\n",
    "groups = ['Alex','Jesse','Jessica','Madeline','Nikki','Nila','Ray','Zongchan']\n",
    "\n",
    "# random seed:\n",
    "random.seed('PINEapple8')\n",
    "\n",
    "# shuffle groups:\n",
    "random.shuffle(groups)\n",
    "\n",
    "# assign first 4 to wed, last 4 to fri:\n",
    "wednesday_groups = groups[0:4]\n",
    "friday_groups = groups[4:8]\n",
    "\n",
    "# let's shuffle the order of each condition (wednesday_groups & friday_groups)\n",
    "random.shuffle(wednesday_groups)\n",
    "random.shuffle(friday_groups)\n",
    "\n",
    "print(wednesday_groups)\n",
    "print(friday_groups)"
   ]
  },
  {
   "cell_type": "markdown",
   "id": "2b257aea",
   "metadata": {},
   "source": [
    "# Presentation Order:\n",
    "\n",
    "As determined by the seed that your classmates selected ('PINEapple8'), your final project presentations will be done in this order:\n",
    "\n",
    "## Wednesday (12/1):\n",
    "1. Alex\n",
    "2. Nila\n",
    "3. Zongchan\n",
    "4. Ray\n",
    "\n",
    "## Friday (12/3):\n",
    "1. Madeline\n",
    "2. Jessica\n",
    "3. Jesse\n",
    "4. Nikki"
   ]
  },
  {
   "cell_type": "markdown",
   "id": "8e8088fd",
   "metadata": {},
   "source": [
    "You will be doing a similar procedure in order to randomly assign your classmates to different conditions in your experiment. You would follow the same procedure as above, but the main difference is that you substitute the \"Wednesday\" and \"Friday\" conditions with your experiment conditions (can be 2 or more)."
   ]
  },
  {
   "cell_type": "markdown",
   "id": "4f120b2f",
   "metadata": {},
   "source": [
    "## Experiment templates"
   ]
  },
  {
   "cell_type": "markdown",
   "id": "6c77ec45",
   "metadata": {},
   "source": [
    "Several proposals involve a memory test of some sort. I will go over a very basic memory test experiment and point out the following main steps that are involved in building these sorts of experiments.\n",
    "\n",
    "You can then use this experiment file as a template for your own experiments.\n",
    "\n",
    "#### Read in the stimuli list\n",
    "The following code will go in code components in our example PsychoPy code component in the \"Begein Experiment\" tab. We're simpling reading the data from a file called stimuli_list into a list called `stimuli_list`. We are then taking each of the columns in stimuli_list.xlsx and putting it into separate lists."
   ]
  },
  {
   "cell_type": "code",
   "execution_count": null,
   "id": "dd94171a",
   "metadata": {},
   "outputs": [],
   "source": [
    "# Import stimuli_list\n",
    "stimuli_list = data.importConditions('stimuli_list.xlsx')\n",
    "\n",
    "animal_images = list()\n",
    "tool_images = list()\n",
    "produce_images = list()\n",
    "for item in stimuli_list:\n",
    "    animal_images.append(item['Animal_Image_Files'])\n",
    "    tool_images.append(item['Tool_Image_Files'])\n",
    "    produce_images.append(item['Produce_Image_Files'])"
   ]
  },
  {
   "cell_type": "markdown",
   "id": "e767b8ce",
   "metadata": {},
   "source": [
    "#### Randomization and building presentation sequences\n",
    "Where and why should you add `random.shuffle`? \n",
    "1. Randomly select a subset of our full set of images (e.g., you may only want to present 3 out of 6 images during the encoding phase)\n",
    "2. If there's some sort of pattern in your list sequence, call `random.shuffle` to randomize the full sequence."
   ]
  },
  {
   "cell_type": "markdown",
   "id": "fc11314f",
   "metadata": {},
   "source": [
    "#### Create routines and add components to each routine\n",
    "Some important reminders:\n",
    "1. Remember to use the $ special character when you want a field to be a variable.\n",
    "2. Remember to \"set every repeat\" for fields that need to be updated with each iteration of a loop.\n",
    "3. `thisRepN` is an attribute of the loop object that keeps track of which iteration you are on. This is often used as the index in your sequence lists.\n",
    "\n",
    "#### Log data\n",
    "1. Use the `pandas` module for convenience. Put `import pandas as pd` in your \"Begin Experiment\" tab.\n",
    "2. In the \"End Routine\" tab of each trial, record the relevant data in something called a `trial_list`. This `trial_list` can then be appended to something called a `session_list`.\n",
    "3. At the end of the experiment, you can convert `session_list` (which is a list of `trial_list`'s) to a dataframe. This dataframe can then be put into a csv file."
   ]
  },
  {
   "cell_type": "markdown",
   "id": "3253190e",
   "metadata": {},
   "source": [
    "### For Auditory Stimuli:\n",
    "The steps are very similar to the steps for the visual memory test, but you'll be creating sequences based on the auditory file names instead of the image filenames. You'll also be using the \"Sound\" component instead of the \"Image\" component.\n",
    "\n",
    "If interested, I can show you how to adapt the Image Memory test template for Auditory stimuli."
   ]
  }
 ],
 "metadata": {
  "kernelspec": {
   "display_name": "Python 3 (ipykernel)",
   "language": "python",
   "name": "python3"
  },
  "language_info": {
   "codemirror_mode": {
    "name": "ipython",
    "version": 3
   },
   "file_extension": ".py",
   "mimetype": "text/x-python",
   "name": "python",
   "nbconvert_exporter": "python",
   "pygments_lexer": "ipython3",
   "version": "3.9.2"
  }
 },
 "nbformat": 4,
 "nbformat_minor": 5
}
