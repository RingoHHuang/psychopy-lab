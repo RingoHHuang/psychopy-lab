{
 "cells": [
  {
   "cell_type": "markdown",
   "id": "946748f2",
   "metadata": {},
   "source": [
    "# Homework 7 -\n",
    "\n",
    "### Random Assignment Example (w/ counterbalancing):\n",
    "Let's say I'm doing a memory study using three image categories: Animals, Tools, and Produce. I'm interested in the memory performance when only one category is task-relevant versus when all three categories are task-relevant (this is an **experimental condition**). For the first experimental condition, participants will press \"1\" every time an image that belongs in their target category appears (1-target condition). For the second experimental condition, participants will press \"1\" for Animals, \"2\" for Tools, and \"3\" for Produce (3-target condition). Because there are 3 categories, we need to further divide the subjects assigned to the 1-target condition into 3 **counterbalanced conditions** (for each category).\n",
    "\n",
    "Thus, for a class of 15 people, 7 subs will go into the 3-target condition, 3 subs will go into the 1-target-animal condition, 3 subs will go into the 1-target-tool condition, and 2 subs will go into the 1-target-produce condition. (Ideally, the counterbalanced condition will have the same number of participants, but that can not always be the case). In other words, these are the bins in our hypothetical experiment with the number of subjects in each bin:\n",
    "- 3-target = 7 subs\n",
    "- 1-target, animal = 3 subs\n",
    "- 1-target, tool = 3 subs\n",
    "- 1-target, produce = 2 subs\n",
    "\n",
    "Here is an example of how I would randomly assign subjects to each condition:"
   ]
  },
  {
   "cell_type": "code",
   "execution_count": 12,
   "id": "34497c5a",
   "metadata": {},
   "outputs": [
    {
     "name": "stdout",
     "output_type": "stream",
     "text": [
      "3-target condition:\n",
      "['Jesse', 'David', 'Ray', 'Bianca', 'Annya', 'Nila', 'Francesco']\n",
      "\n",
      "1-target-animal condition:\n",
      "['Ellyzha', 'Madeline', 'Abigail']\n",
      "\n",
      "1-target-tool condition:\n",
      "['Alex', 'Sarah', 'Zongchan']\n",
      "\n",
      "1-target-produce condition:\n",
      "['Nikki', 'Jessica']\n"
     ]
    }
   ],
   "source": [
    "# import \n",
    "import random\n",
    "\n",
    "# Starting with this list of subjects:\n",
    "subs = [\"Sarah\",\"Nikki\",\"Bianca\",\"Alex\",\"Abigail\",\"Ray\",\"Francesco\",\"David\",\"Jesse\",\"Nila\",\"Annya\",\"Zongchan\",\"Jessica\",\"Madeline\", \"Ellyzha\"]\n",
    "\n",
    "# Set a seed\n",
    "random.seed('seed can be anything!')\n",
    "\n",
    "# Shuffle subs\n",
    "random.shuffle(subs)\n",
    "\n",
    "# Put first 7 subs in 3-target condition, next 3 subs in the 1-target-animal, next 3 in 1-target-tool, next 2 in 1-target-produce\n",
    "cond_3_target = subs[0:7]\n",
    "cond_1_target_animal = subs[7:10]\n",
    "cond_1_target_tool = subs[10:13]\n",
    "cond_1_target_produce = subs[13:15]\n",
    "\n",
    "# Let's find out where each sub goes:\n",
    "print('3-target condition:')\n",
    "print(cond_3_target)\n",
    "print('\\n1-target-animal condition:')\n",
    "print(cond_1_target_animal)\n",
    "print('\\n1-target-tool condition:')\n",
    "print(cond_1_target_tool)\n",
    "print('\\n1-target-produce condition:')\n",
    "print(cond_1_target_produce)"
   ]
  },
  {
   "cell_type": "markdown",
   "id": "71a2e5b1",
   "metadata": {},
   "source": [
    "That's all there is to it! Now you know which condition each subject belongs to!"
   ]
  },
  {
   "cell_type": "markdown",
   "id": "ad9d7597",
   "metadata": {},
   "source": [
    "### Problem 1\n",
    "The answers to problem 1 don't need to be the final conditions used in your study! I just want you to start thinking about it so that we can help you adjust if necessary.\n",
    "\n",
    "#### (a) Think about the experimental design of your final project. How many experimental conditions will you have? Will you need to counterbalance your study? How many counterbalanced conditions will you have, if so?"
   ]
  },
  {
   "cell_type": "markdown",
   "id": "b5b3244f",
   "metadata": {},
   "source": []
  },
  {
   "cell_type": "markdown",
   "id": "a92b729d",
   "metadata": {},
   "source": [
    "#### (b) Come up with descriptive labels for each of the \"bins\" in your experiment, similar to what I have listed in the example above:"
   ]
  },
  {
   "cell_type": "raw",
   "id": "14956121",
   "metadata": {},
   "source": []
  },
  {
   "cell_type": "markdown",
   "id": "f8a0774c",
   "metadata": {},
   "source": [
    "### Problem 2\n",
    "#### (a) Below is a list with the names of all your classmates (and you and your partner). Edit the list assignment by removing the names of you and your partner:"
   ]
  },
  {
   "cell_type": "code",
   "execution_count": null,
   "id": "fcc0924a",
   "metadata": {},
   "outputs": [],
   "source": [
    "# remove you and your partner's names from this list:\n",
    "subs = [\"Sarah\",\"Nikki\",\"Bianca\",\"Alex\",\"Abigail\",\"Ray\",\"Francesco\",\"David\",\"Jesse\",\"Nila\",\"Annya\",\"Zongchan\",\"Jessica\",\"Madeline\", \"Ellyzha\"]"
   ]
  },
  {
   "cell_type": "markdown",
   "id": "156d8a47",
   "metadata": {},
   "source": [
    "#### (b) Following the procedure in the example above, (e.g., set random seed, shuffle, assign subsets of the shuffled list to different conditions), randomly assign your classmates to your experimental/counterbalanced conditions. LIke the example above, the names should be stored in different lists for each condition. You can use whatever variable name that makes sense for your study. Please print out the variable name."
   ]
  },
  {
   "cell_type": "code",
   "execution_count": null,
   "id": "9b1134d6",
   "metadata": {},
   "outputs": [],
   "source": []
  }
 ],
 "metadata": {
  "kernelspec": {
   "display_name": "Python 3 (ipykernel)",
   "language": "python",
   "name": "python3"
  },
  "language_info": {
   "codemirror_mode": {
    "name": "ipython",
    "version": 3
   },
   "file_extension": ".py",
   "mimetype": "text/x-python",
   "name": "python",
   "nbconvert_exporter": "python",
   "pygments_lexer": "ipython3",
   "version": "3.9.2"
  }
 },
 "nbformat": 4,
 "nbformat_minor": 5
}
