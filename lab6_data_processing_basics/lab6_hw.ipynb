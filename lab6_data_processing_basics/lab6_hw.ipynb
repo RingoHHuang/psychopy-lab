{
 "cells": [
  {
   "cell_type": "markdown",
   "id": "650568f9",
   "metadata": {},
   "source": [
    "# Lab 6 Homework - More Data!\n",
    "\n",
    "Please turn in this jupyter notebook file (or your code copied to a text editor) via e-mail. If there are any problems that you have trouble with, feel free to ask me for clarification!\n",
    "\n",
    "Reminder - if there's anything related to experiment building that you want me to cover or review, please feel free to e-mail me and I can try to incorporate it in the next lesson!\n",
    "\n",
    "## Problem 1\n",
    "#### (a) If you haven't done so already, use `pip` to install the `pandas` packages to your computer by running the following code in command prompt (Windows) or terminal (Mac). If you are having trouble, please e-mail me:"
   ]
  },
  {
   "cell_type": "code",
   "execution_count": null,
   "id": "4dee1a7c",
   "metadata": {},
   "outputs": [],
   "source": []
  },
  {
   "cell_type": "markdown",
   "id": "cdf334e1",
   "metadata": {},
   "source": [
    "#### (b) Import `re` and `glob` modules:"
   ]
  },
  {
   "cell_type": "code",
   "execution_count": 1,
   "id": "9e68b512",
   "metadata": {},
   "outputs": [],
   "source": [
    "import re, glob"
   ]
  },
  {
   "cell_type": "markdown",
   "id": "db7a3401",
   "metadata": {},
   "source": [
    "#### (c) Use `re.split` to split `my_string`, using \"_\" as the delimiter. Print the output. (Hint: Look at lab 6 worksheet, step 7)"
   ]
  },
  {
   "cell_type": "code",
   "execution_count": 4,
   "id": "2710b4e0",
   "metadata": {},
   "outputs": [
    {
     "data": {
      "text/plain": [
       "['hello,this', 'string,has', 'so', 'many', 'delimiters']"
      ]
     },
     "execution_count": 4,
     "metadata": {},
     "output_type": "execute_result"
    }
   ],
   "source": [
    "my_string = \"hello,this_string,has_so_many_delimiters\""
   ]
  },
  {
   "cell_type": "markdown",
   "id": "aef106bd",
   "metadata": {},
   "source": [
    "#### (d) Now, split `my_string` using \"_\" and \",\" as the delimiters. Print the output. (Hint: Look at lab 6 worksheet, step 7 and use the \"|\" special character)"
   ]
  },
  {
   "cell_type": "code",
   "execution_count": null,
   "id": "b6c3fc09",
   "metadata": {},
   "outputs": [],
   "source": []
  },
  {
   "cell_type": "markdown",
   "id": "311afdfb",
   "metadata": {},
   "source": [
    "#### (e) Instead of printing all the segments of the string as in part d, store just the second element of the `re.split` output as a variable, and print that variable. (Hint: Look at lab 6 worksheet step 7. We used the underscore character \"_\" to denote that we don't want to record this variable)"
   ]
  },
  {
   "cell_type": "code",
   "execution_count": null,
   "id": "4c7bc5d8",
   "metadata": {},
   "outputs": [],
   "source": []
  },
  {
   "cell_type": "markdown",
   "id": "69376d7e",
   "metadata": {},
   "source": [
    "## Problem 2\n",
    "#### (a) Use `glob.glob()` with pattern-matching to get all the filenames. Use (\"*_redlight_greenlight.csv\") as the pattern to match. Store the list of filenames in a variable called `data_filenames`:"
   ]
  },
  {
   "cell_type": "code",
   "execution_count": 10,
   "id": "7569429d",
   "metadata": {},
   "outputs": [
    {
     "name": "stdout",
     "output_type": "stream",
     "text": [
      "C:\\Users\\huang\\Box\\186C\\week6\\lab6_hw\n",
      "['.ipynb_checkpoints', 'lab6_hw.html', 'lab6_hw.ipynb', 'sub-101_fa-5_redlight_greenlight.csv', 'sub-102_fa-5_redlight_greenlight.csv', 'sub-103_fa-10_redlight_greenlight.csv', 'sub-104_fa-10_redlight_greenlight.csv']\n"
     ]
    }
   ],
   "source": [
    "b = glob.glob(\"*_redlight_greenlight.csv\")"
   ]
  },
  {
   "cell_type": "markdown",
   "id": "e4fb7501",
   "metadata": {},
   "source": [
    "#### (b) Use a for loop to iterate over each `filename` element in `data_filenames`. Print the `filename` inside each iteration (see the loop in step 8 of the worksheet for an example):"
   ]
  },
  {
   "cell_type": "code",
   "execution_count": null,
   "id": "33c4ffe3",
   "metadata": {},
   "outputs": [],
   "source": []
  },
  {
   "cell_type": "markdown",
   "id": "04ebd4bb",
   "metadata": {},
   "source": [
    "#### (c) Copy and paste the code you made in part (b). Inside the loop, add a line of code to read the filename to a data frame called `subject_df` using `pd.read_csv` (see the first thing you do in the loop in step 8 of the worksheet)."
   ]
  },
  {
   "cell_type": "code",
   "execution_count": null,
   "id": "48b53272",
   "metadata": {},
   "outputs": [],
   "source": [
    "import pandas as pd\n",
    "\n"
   ]
  },
  {
   "cell_type": "markdown",
   "id": "2d526043",
   "metadata": {},
   "source": [
    "#### (d) Copy and paste the code you made in part (b). Using the code in step 8 of the worksheet as a template, calculate the `hit_rate` within the loop (hint: start by getting `hit_la`, then get `hit_count`, then get `go_count`). Print the `hit_rate` with each iteration of the loop."
   ]
  },
  {
   "cell_type": "code",
   "execution_count": null,
   "id": "fbfcb320",
   "metadata": {},
   "outputs": [],
   "source": []
  }
 ],
 "metadata": {
  "kernelspec": {
   "display_name": "Python 3 (ipykernel)",
   "language": "python",
   "name": "python3"
  },
  "language_info": {
   "codemirror_mode": {
    "name": "ipython",
    "version": 3
   },
   "file_extension": ".py",
   "mimetype": "text/x-python",
   "name": "python",
   "nbconvert_exporter": "python",
   "pygments_lexer": "ipython3",
   "version": "3.9.2"
  }
 },
 "nbformat": 4,
 "nbformat_minor": 5
}
