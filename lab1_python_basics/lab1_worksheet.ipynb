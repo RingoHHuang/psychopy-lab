{
 "cells": [
  {
   "cell_type": "markdown",
   "metadata": {},
   "source": [
    "## Psych 186C W1: Python Basics "
   ]
  },
  {
   "cell_type": "markdown",
   "metadata": {},
   "source": [
    "In this worksheet you will learn some of the basics of programming in the Python programming langauge. \n",
    "\n",
    "We will cover:\n",
    "- Python syntax such as indentation, defining variables, and how to comment your code\n",
    "- Basic data types like strings, ints, bools, floats, doubles, lists, and dicts\n",
    "- Control flows (aka if-else branching)\n",
    "- The for loop and while loop\n",
    "\n",
    "The homework problems will require you bring together the concepts you learned in the Python Basics section of the worksheet. Please consult the How To Submit Homework Document on CCLE. \n"
   ]
  },
  {
   "cell_type": "markdown",
   "metadata": {},
   "source": [
    "## Python syntax\n",
    "\n",
    "Python syntax refers to how the code is written. To start we will cover 3 basic components to Python's syntax"
   ]
  },
  {
   "cell_type": "markdown",
   "metadata": {},
   "source": [
    "### Indentation (Significant Spacing)\n",
    "Unlike other programming langauges, how you choose to indent your code is very important in Python. This is because indents tell the Python interpreter which chunks of code should be ran together before moving onto the next part of the program. For those familiar with other programming langauges, indentation replaces the function of the curly brackets in other languages like Java `{ }`."
   ]
  },
  {
   "cell_type": "markdown",
   "metadata": {},
   "source": [
    "If you fail to indent things properly, you may get a syntax error. For instance, consider the block of code below, which will print the statement `\"Yes, 1 is greater than 0\"` if the expression `1 > 0` returns `true`. Note the indent following the new line. "
   ]
  },
  {
   "cell_type": "code",
   "execution_count": 6,
   "metadata": {},
   "outputs": [
    {
     "name": "stdout",
     "output_type": "stream",
     "text": [
      "Yes, 1 is greater than 0\n"
     ]
    }
   ],
   "source": [
    "if 1 > 0:\n",
    "    print('Yes, 1 is greater than 0')"
   ]
  },
  {
   "cell_type": "markdown",
   "metadata": {},
   "source": [
    "By indenting, we indicate the two seperate code blocks needing to be executing: (1) evaluating the expression `1 > 0` and (2) printing the string `'Yes, 1 is greater than 0'`. In general, indentation signfies each individual code block (i.e., a set of commands that should be executed *together* before moving onto the next part of the program)."
   ]
  },
  {
   "cell_type": "markdown",
   "metadata": {},
   "source": [
    "Whenever we type a `:` in Python, the interpreter will expect that you indent the next line of code. Notice, what happens if I fail to indent the second line of code, an error is returned."
   ]
  },
  {
   "cell_type": "code",
   "execution_count": 17,
   "metadata": {},
   "outputs": [
    {
     "name": "stdout",
     "output_type": "stream",
     "text": [
      "Yes, 1 is greater than 0\n",
      "This will cause an error\n"
     ]
    }
   ],
   "source": [
    "if 1 > 0:    \n",
    "print('Yes, 1 is greater than 0')"
   ]
  },
  {
   "cell_type": "markdown",
   "metadata": {},
   "source": [
    "In the remainder of the tutorial, I will make note of when you should indent your code and by the end of this tutorial, indentation will feel very natural and intuitive. However, if you still feel like you need more information on indentation, check out this great resource: https://docs.python.org/2.0/ref/indentation.html"
   ]
  },
  {
   "cell_type": "markdown",
   "metadata": {},
   "source": [
    "### Exercise 1\n",
    "Fix the code in this block so it prints the string `'I\\'m feeling pretty good today!'`"
   ]
  },
  {
   "cell_type": "code",
   "execution_count": 27,
   "metadata": {},
   "outputs": [
    {
     "name": "stdout",
     "output_type": "stream",
     "text": [
      "I\\'m feeling pretty good today!\n"
     ]
    }
   ],
   "source": [
    "mood = 'happy'\n",
    "\n",
    "if mood == 'happy':\n",
    "    print(\"I\\\\'m feeling pretty good today!\")"
   ]
  },
  {
   "cell_type": "markdown",
   "metadata": {},
   "source": [
    "### Exercise 2\n",
    "\n",
    "For the following 3 code blocks, try to predict (before executing it) if the code will produce an error. If it does, fix the code so it doesn't produce an error. "
   ]
  },
  {
   "cell_type": "code",
   "execution_count": 28,
   "metadata": {
    "scrolled": true
   },
   "outputs": [
    {
     "name": "stdout",
     "output_type": "stream",
     "text": [
      "2\n",
      "is\n",
      "greater\n",
      "than\n",
      "1\n"
     ]
    }
   ],
   "source": [
    "\"\"\"\n",
    "make sure the output of this block reads \n",
    "2\n",
    "is\n",
    "greater\n",
    "than\n",
    "1\n",
    "\"\"\"\n",
    "if 2 > 1: \n",
    "print('2')\n",
    "    print('is')\n",
    "     print('greater')\n",
    "    print('than')\n",
    "    print('1')"
   ]
  },
  {
   "cell_type": "code",
   "execution_count": 29,
   "metadata": {},
   "outputs": [
    {
     "name": "stdout",
     "output_type": "stream",
     "text": [
      "2 is greater than 1\n"
     ]
    }
   ],
   "source": [
    "#make sure the output of this block reads 2 is greater than 1\n",
    "if 2 > 1:\n",
    "    print(\"2 is greater than 1\")\n",
    "else:\n",
    "    print(\"2 is NOT greater than 1\")"
   ]
  },
  {
   "cell_type": "code",
   "execution_count": 30,
   "metadata": {},
   "outputs": [
    {
     "ename": "SyntaxError",
     "evalue": "invalid syntax (Temp/ipykernel_28484/2019678454.py, line 4)",
     "output_type": "error",
     "traceback": [
      "\u001b[1;36m  File \u001b[1;32m\"C:\\Users\\huang\\AppData\\Local\\Temp/ipykernel_28484/2019678454.py\"\u001b[1;36m, line \u001b[1;32m4\u001b[0m\n\u001b[1;33m    else:\u001b[0m\n\u001b[1;37m    ^\u001b[0m\n\u001b[1;31mSyntaxError\u001b[0m\u001b[1;31m:\u001b[0m invalid syntax\n"
     ]
    }
   ],
   "source": [
    "#make sure the output of this block reads 2 is greater than 1\n",
    "if 1 > 2:\n",
    "    print(\"1 is greater than 2\")\n",
    "    else:\n",
    "        print(\"2 is greater than 1\")"
   ]
  },
  {
   "cell_type": "markdown",
   "metadata": {},
   "source": [
    "## Defining variables\n",
    "We oftentimes what to define variables which can be used multiple times in our program. An example of a variable can be seen in the indentation example where I define a variable named `mood` to the string `happy`. I did this by typing out `mood = 'happy'`. In the code block below I create 5 variables of different data types (more about data types below) and then print the values of those variables out. Notice how I call the variable name in the print function, but the value that the variable is assigned is what's printed."
   ]
  },
  {
   "cell_type": "code",
   "execution_count": 36,
   "metadata": {},
   "outputs": [
    {
     "name": "stdout",
     "output_type": "stream",
     "text": [
      "I have a dog named Max who is 4 year(s) old in human years and 28 year(s) old in dog years. Max is a white dog with a constantly sad personality.\n",
      "asd\n"
     ]
    }
   ],
   "source": [
    "name = 'Max'\n",
    "age_human_years = 4\n",
    "age_dog_years = age_human_years * 7\n",
    "color = 'white'\n",
    "personality = 'constantly sad'\n",
    "\n",
    "#don't worry too much about this print statement yet\n",
    "print(f'I have a dog named %s who is %d year(s) old in human years and %d year(s) old in dog years. %s is a %s dog with a %s personality.' %\n",
    "     (name, age_human_years, age_dog_years, name, color, personality))"
   ]
  },
  {
   "cell_type": "markdown",
   "metadata": {},
   "source": [
    "### Exercise 3 \n",
    "Now add your own values to the variable names and print the resulting statement. Notice how `age_dog_years` doesn't need to be explictly defined by you. This is because the value is determined from the number you assign `age_human_years`."
   ]
  },
  {
   "cell_type": "code",
   "execution_count": null,
   "metadata": {},
   "outputs": [],
   "source": [
    "name = '' #make sure the value is wrapped in quotes. e.g., type 'bingo' not bingo\n",
    "age_human_years =  #make sure you don't wrap the number in quotes. e.g., type 3 not '3'\n",
    "age_dog_years = age_human_years * 7\n",
    "color = '' #make sure the value is wrapped in quotes\n",
    "personality = '' #make sure the value is wrapped in quotes\n",
    "\n",
    "#don't worry too much about this print statement yet\n",
    "print(f'I have a dog named %s who is %d year(s) old in human years and %d year(s) old in dog years. %s is a %s dog with a %s personality' %\n",
    "     (name, age_human_years, age_dog_years, name, color, personality ))"
   ]
  },
  {
   "cell_type": "markdown",
   "metadata": {},
   "source": [
    "You have a lot of flexibility in what you choose to name your variables. However there are some restrictions. \n",
    "For instance, invalid variable names have spaces and lead with number. See the examples below. "
   ]
  },
  {
   "cell_type": "code",
   "execution_count": 126,
   "metadata": {},
   "outputs": [
    {
     "ename": "SyntaxError",
     "evalue": "invalid syntax (<ipython-input-126-84c680502a47>, line 1)",
     "output_type": "error",
     "traceback": [
      "\u001b[0;36m  File \u001b[0;32m\"<ipython-input-126-84c680502a47>\"\u001b[0;36m, line \u001b[0;32m1\u001b[0m\n\u001b[0;31m    2name = 'some string'\u001b[0m\n\u001b[0m        ^\u001b[0m\n\u001b[0;31mSyntaxError\u001b[0m\u001b[0;31m:\u001b[0m invalid syntax\n"
     ]
    }
   ],
   "source": [
    "2name = 'some string'"
   ]
  },
  {
   "cell_type": "code",
   "execution_count": 127,
   "metadata": {},
   "outputs": [
    {
     "name": "stdout",
     "output_type": "stream",
     "text": [
      "some string\n"
     ]
    }
   ],
   "source": [
    "#numbers are okay, you just can't lead with them\n",
    "name2 = 'some string'\n",
    "print(name2)"
   ]
  },
  {
   "cell_type": "code",
   "execution_count": 128,
   "metadata": {},
   "outputs": [
    {
     "ename": "SyntaxError",
     "evalue": "invalid syntax (<ipython-input-128-30f13b2276ce>, line 2)",
     "output_type": "error",
     "traceback": [
      "\u001b[0;36m  File \u001b[0;32m\"<ipython-input-128-30f13b2276ce>\"\u001b[0;36m, line \u001b[0;32m2\u001b[0m\n\u001b[0;31m    string* = 'some string'\u001b[0m\n\u001b[0m            ^\u001b[0m\n\u001b[0;31mSyntaxError\u001b[0m\u001b[0;31m:\u001b[0m invalid syntax\n"
     ]
    }
   ],
   "source": [
    "#no special characters like *, !, @, #, ect\n",
    "string* = 'some string'"
   ]
  },
  {
   "cell_type": "code",
   "execution_count": 129,
   "metadata": {},
   "outputs": [
    {
     "ename": "SyntaxError",
     "evalue": "invalid syntax (<ipython-input-129-0a5466776445>, line 1)",
     "output_type": "error",
     "traceback": [
      "\u001b[0;36m  File \u001b[0;32m\"<ipython-input-129-0a5466776445>\"\u001b[0;36m, line \u001b[0;32m1\u001b[0m\n\u001b[0;31m    string! = 'some string'\u001b[0m\n\u001b[0m          ^\u001b[0m\n\u001b[0;31mSyntaxError\u001b[0m\u001b[0;31m:\u001b[0m invalid syntax\n"
     ]
    }
   ],
   "source": [
    "string! = 'some string'"
   ]
  },
  {
   "cell_type": "code",
   "execution_count": 130,
   "metadata": {},
   "outputs": [
    {
     "ename": "SyntaxError",
     "evalue": "invalid syntax (<ipython-input-130-7d746d2130b0>, line 1)",
     "output_type": "error",
     "traceback": [
      "\u001b[0;36m  File \u001b[0;32m\"<ipython-input-130-7d746d2130b0>\"\u001b[0;36m, line \u001b[0;32m1\u001b[0m\n\u001b[0;31m    string@ = 'some string'\u001b[0m\n\u001b[0m            ^\u001b[0m\n\u001b[0;31mSyntaxError\u001b[0m\u001b[0;31m:\u001b[0m invalid syntax\n"
     ]
    }
   ],
   "source": [
    "string@ = 'some string'"
   ]
  },
  {
   "cell_type": "markdown",
   "metadata": {},
   "source": [
    "### Comments\n",
    "It is good practice to comment your code. Commenting means that you provide a verbal description of what you are having your program do. If you are interested in learning how to be an effective code commenter, check out this website: https://www.elegantthemes.com/blog/wordpress/how-to-comment-your-code-like-a-pro-best-practices-and-good-habits\n",
    "\n",
    "There are two ways to comment your code:\n",
    "- With the pound sign `#`\n",
    "- Between a pair triple quotes `''' '''`\n",
    "\n",
    "When you use these symbols, you tell the python interpreter to ignore whatever follows"
   ]
  },
  {
   "cell_type": "code",
   "execution_count": 131,
   "metadata": {},
   "outputs": [],
   "source": [
    "#This is a comment using the pound sign. Note that you can only comment out one line of text"
   ]
  },
  {
   "cell_type": "code",
   "execution_count": null,
   "metadata": {},
   "outputs": [],
   "source": [
    "\"\"\"\n",
    "This is a multi-line comment. \n",
    "You can write more lengthy descriptions in this\n",
    "type of comment.\n",
    "\"\"\""
   ]
  },
  {
   "cell_type": "markdown",
   "metadata": {},
   "source": [
    "## Basic data types\n",
    "\n",
    "In this section I will go over the basic data types in Python and how you use them. \n",
    "\n",
    "The basic data types are: \n",
    "- strings (more info: https://www.w3schools.com/python/python_strings.asp)\n",
    "- ints (more info: https://www.tutorialspoint.com/python/python_numbers.htm)\n",
    "- booleans (or 'bools') (more info: https://www.w3schools.com/python/python_booleans.asp)\n",
    "- floats and doubles \n",
    "- lists (more info: https://www.w3schools.com/python/python_lists.asp)\n",
    "- and dictionarys (or 'dicts') (more info: https://www.w3schools.com/python/python_dictionaries.asp)\n",
    "\n",
    "If you would like to go deeper into data types than what I cover here, check out these resources: \n",
    "- https://docs.python.org/3/tutorial/datastructures.html\n",
    "- http://www.math.wsu.edu/math/kcooper/M300/pythontypes.php#:~:text=These%20are%20almost%20the%20same,and%20hence%20is%20slightly%20different."
   ]
  },
  {
   "cell_type": "markdown",
   "metadata": {},
   "source": [
    "### Strings\n",
    "You can define a string with either single quote `''` or double quotes `\"\"`. A string variable will then represent the characters you placed between the quotes. Below are a few examples of strings."
   ]
  },
  {
   "cell_type": "code",
   "execution_count": 47,
   "metadata": {},
   "outputs": [],
   "source": [
    "string1 = 'i am a string'\n",
    "string2 = '2352&(#)'\n",
    "string3 = \"35\"\n",
    "notstring = 35"
   ]
  },
  {
   "cell_type": "code",
   "execution_count": 45,
   "metadata": {},
   "outputs": [
    {
     "data": {
      "text/plain": [
       "str"
      ]
     },
     "execution_count": 45,
     "metadata": {},
     "output_type": "execute_result"
    }
   ],
   "source": [
    "#We can check if these variables are strings by using the `type()` function. \n",
    "type(string1)"
   ]
  },
  {
   "cell_type": "code",
   "execution_count": 44,
   "metadata": {},
   "outputs": [
    {
     "data": {
      "text/plain": [
       "True"
      ]
     },
     "execution_count": 44,
     "metadata": {},
     "output_type": "execute_result"
    }
   ],
   "source": [
    "#We can test if a variable is a string. Output is a boolean (True/False):\n",
    "type(string2) == str"
   ]
  },
  {
   "cell_type": "code",
   "execution_count": 43,
   "metadata": {},
   "outputs": [
    {
     "data": {
      "text/plain": [
       "True"
      ]
     },
     "execution_count": 43,
     "metadata": {},
     "output_type": "execute_result"
    }
   ],
   "source": [
    "#Another way to test if a variable is a string. Output is a boolean (True/False):\n",
    "isinstance(string3,str)"
   ]
  },
  {
   "cell_type": "code",
   "execution_count": 48,
   "metadata": {},
   "outputs": [
    {
     "name": "stdout",
     "output_type": "stream",
     "text": [
      "This variable is not a string\n"
     ]
    }
   ],
   "source": [
    "#We can include boolean statements in if statements:\n",
    "if isinstance(notstring,str):\n",
    "    print(\"This variable is a string\")\n",
    "else:\n",
    "    print(\"This variable is not a string\")"
   ]
  },
  {
   "cell_type": "code",
   "execution_count": 19,
   "metadata": {},
   "outputs": [
    {
     "data": {
      "text/plain": [
       "13"
      ]
     },
     "execution_count": 19,
     "metadata": {},
     "output_type": "execute_result"
    }
   ],
   "source": [
    "#you can find the length of a string by using the following function. note that len will report the number of \n",
    "#characters in the string\n",
    "len(string1)"
   ]
  },
  {
   "cell_type": "markdown",
   "metadata": {},
   "source": [
    "### Integers\n",
    "Integers are the most basic type of numeric representation in Python. Below are a few examples of integers (or 'ints')"
   ]
  },
  {
   "cell_type": "code",
   "execution_count": 26,
   "metadata": {},
   "outputs": [],
   "source": [
    "int1 = 3\n",
    "int2 = 243242\n",
    "int3 = 300"
   ]
  },
  {
   "cell_type": "code",
   "execution_count": 27,
   "metadata": {},
   "outputs": [
    {
     "data": {
      "text/plain": [
       "int"
      ]
     },
     "execution_count": 27,
     "metadata": {},
     "output_type": "execute_result"
    }
   ],
   "source": [
    "#check if variable int2 is an integer\n",
    "type(int2)"
   ]
  },
  {
   "cell_type": "markdown",
   "metadata": {},
   "source": [
    "You can do mathematical operation on integers:"
   ]
  },
  {
   "cell_type": "code",
   "execution_count": 28,
   "metadata": {},
   "outputs": [
    {
     "data": {
      "text/plain": [
       "6"
      ]
     },
     "execution_count": 28,
     "metadata": {},
     "output_type": "execute_result"
    }
   ],
   "source": [
    "3 + 3"
   ]
  },
  {
   "cell_type": "code",
   "execution_count": 29,
   "metadata": {},
   "outputs": [
    {
     "data": {
      "text/plain": [
       "1"
      ]
     },
     "execution_count": 29,
     "metadata": {},
     "output_type": "execute_result"
    }
   ],
   "source": [
    "3 - 2"
   ]
  },
  {
   "cell_type": "code",
   "execution_count": 30,
   "metadata": {},
   "outputs": [
    {
     "data": {
      "text/plain": [
       "1.5"
      ]
     },
     "execution_count": 30,
     "metadata": {},
     "output_type": "execute_result"
    }
   ],
   "source": [
    "#Divison with a backslash\n",
    "3/2"
   ]
  },
  {
   "cell_type": "code",
   "execution_count": 31,
   "metadata": {},
   "outputs": [
    {
     "data": {
      "text/plain": [
       "369"
      ]
     },
     "execution_count": 31,
     "metadata": {},
     "output_type": "execute_result"
    }
   ],
   "source": [
    "#multplication is performed using a *\n",
    "123*3"
   ]
  },
  {
   "cell_type": "code",
   "execution_count": 34,
   "metadata": {},
   "outputs": [
    {
     "data": {
      "text/plain": [
       "9"
      ]
     },
     "execution_count": 34,
     "metadata": {},
     "output_type": "execute_result"
    }
   ],
   "source": [
    "#take exponents using **\n",
    "3**2"
   ]
  },
  {
   "cell_type": "code",
   "execution_count": 35,
   "metadata": {},
   "outputs": [
    {
     "data": {
      "text/plain": [
       "True"
      ]
     },
     "execution_count": 35,
     "metadata": {},
     "output_type": "execute_result"
    }
   ],
   "source": [
    "#greater than is with a > \n",
    "3 > 2"
   ]
  },
  {
   "cell_type": "code",
   "execution_count": 36,
   "metadata": {},
   "outputs": [
    {
     "data": {
      "text/plain": [
       "False"
      ]
     },
     "execution_count": 36,
     "metadata": {},
     "output_type": "execute_result"
    }
   ],
   "source": [
    "#less than is with a <\n",
    "3 < 2"
   ]
  },
  {
   "cell_type": "code",
   "execution_count": 37,
   "metadata": {},
   "outputs": [
    {
     "data": {
      "text/plain": [
       "True"
      ]
     },
     "execution_count": 37,
     "metadata": {},
     "output_type": "execute_result"
    }
   ],
   "source": [
    "#greater than and equal to is >=\n",
    "3 >= 3"
   ]
  },
  {
   "cell_type": "code",
   "execution_count": 38,
   "metadata": {},
   "outputs": [
    {
     "data": {
      "text/plain": [
       "True"
      ]
     },
     "execution_count": 38,
     "metadata": {},
     "output_type": "execute_result"
    }
   ],
   "source": [
    "#less than and equal to is <=\n",
    "3 <= 3"
   ]
  },
  {
   "cell_type": "code",
   "execution_count": 39,
   "metadata": {},
   "outputs": [
    {
     "data": {
      "text/plain": [
       "False"
      ]
     },
     "execution_count": 39,
     "metadata": {},
     "output_type": "execute_result"
    }
   ],
   "source": [
    "#you can create more complex expression using parens ()\n",
    "\n",
    "(3 + 2) / 2 ** 2 > (34 * 2)/4"
   ]
  },
  {
   "cell_type": "markdown",
   "metadata": {},
   "source": [
    "### Exercise 4\n",
    "Can you explain why these two expressions are different? What may be going on?"
   ]
  },
  {
   "cell_type": "code",
   "execution_count": 40,
   "metadata": {},
   "outputs": [
    {
     "name": "stdout",
     "output_type": "stream",
     "text": [
      "4.5\n"
     ]
    }
   ],
   "source": [
    "value1 = 9 / 2\n",
    "\n",
    "print(value1)"
   ]
  },
  {
   "cell_type": "code",
   "execution_count": 45,
   "metadata": {},
   "outputs": [
    {
     "name": "stdout",
     "output_type": "stream",
     "text": [
      "3\n"
     ]
    }
   ],
   "source": [
    "value2 = 10 // 3\n",
    "\n",
    "print(value2)"
   ]
  },
  {
   "cell_type": "markdown",
   "metadata": {},
   "source": [
    "### Exercise 5\n",
    "The modulus operation is very common in computer programming. Given the examples below, can you figure out what the modulus operation `%` is doing? "
   ]
  },
  {
   "cell_type": "code",
   "execution_count": 149,
   "metadata": {},
   "outputs": [
    {
     "data": {
      "text/plain": [
       "1"
      ]
     },
     "execution_count": 149,
     "metadata": {},
     "output_type": "execute_result"
    }
   ],
   "source": [
    "7 % 2"
   ]
  },
  {
   "cell_type": "code",
   "execution_count": 150,
   "metadata": {},
   "outputs": [
    {
     "data": {
      "text/plain": [
       "0"
      ]
     },
     "execution_count": 150,
     "metadata": {},
     "output_type": "execute_result"
    }
   ],
   "source": [
    "8 % 4"
   ]
  },
  {
   "cell_type": "code",
   "execution_count": 151,
   "metadata": {},
   "outputs": [
    {
     "data": {
      "text/plain": [
       "2"
      ]
     },
     "execution_count": 151,
     "metadata": {},
     "output_type": "execute_result"
    }
   ],
   "source": [
    "17 % 5"
   ]
  },
  {
   "cell_type": "markdown",
   "metadata": {},
   "source": [
    "### Booleans\n",
    "It is oftentimes important to know if an expression is true or false. Booleans (or 'bools') are data types that return either a `True` or `False` value given the truth value of an expression.\n",
    "\n",
    "I will give a few examples for how you can work with and assign bool values."
   ]
  },
  {
   "cell_type": "code",
   "execution_count": 47,
   "metadata": {},
   "outputs": [
    {
     "name": "stdout",
     "output_type": "stream",
     "text": [
      "True\n"
     ]
    }
   ],
   "source": [
    "bool1 = True\n",
    "\n",
    "print(bool1)"
   ]
  },
  {
   "cell_type": "code",
   "execution_count": 48,
   "metadata": {},
   "outputs": [
    {
     "name": "stdout",
     "output_type": "stream",
     "text": [
      "False\n"
     ]
    }
   ],
   "source": [
    "bool2 = 3 + 3 < 5\n",
    "\n",
    "print(bool2)"
   ]
  },
  {
   "cell_type": "code",
   "execution_count": 49,
   "metadata": {},
   "outputs": [
    {
     "name": "stdout",
     "output_type": "stream",
     "text": [
      "True\n"
     ]
    }
   ],
   "source": [
    "bool3 = 17 == 17\n",
    "\n",
    "print(bool3)"
   ]
  },
  {
   "cell_type": "code",
   "execution_count": 50,
   "metadata": {},
   "outputs": [
    {
     "name": "stdout",
     "output_type": "stream",
     "text": [
      "False\n"
     ]
    }
   ],
   "source": [
    "bool4 = bool3 == bool2\n",
    "\n",
    "print(bool4)"
   ]
  },
  {
   "cell_type": "code",
   "execution_count": 156,
   "metadata": {},
   "outputs": [
    {
     "name": "stdout",
     "output_type": "stream",
     "text": [
      "True\n"
     ]
    }
   ],
   "source": [
    "s = 'this is a string'\n",
    "bool5 = type(s) is str\n",
    "print(bool5)"
   ]
  },
  {
   "cell_type": "code",
   "execution_count": 52,
   "metadata": {},
   "outputs": [
    {
     "name": "stdout",
     "output_type": "stream",
     "text": [
      "True\n"
     ]
    }
   ],
   "source": [
    "i = 6\n",
    "bool6 = type(i) is int\n",
    "print(bool6)"
   ]
  },
  {
   "cell_type": "markdown",
   "metadata": {},
   "source": [
    "### Difference between `=` and `==`\n",
    "You may now notice that there is a difference between `=` and `==`. This is confusing to some people at first, because `=` doesn't mean equal in the everday sense of the word. Rather, `=` can only be used to assign variables. If you are wanting to test if two values are equal, use `==`. "
   ]
  },
  {
   "cell_type": "code",
   "execution_count": 158,
   "metadata": {},
   "outputs": [],
   "source": [
    "#variable assigment\n",
    "a = 6"
   ]
  },
  {
   "cell_type": "code",
   "execution_count": 159,
   "metadata": {},
   "outputs": [
    {
     "data": {
      "text/plain": [
       "True"
      ]
     },
     "execution_count": 159,
     "metadata": {},
     "output_type": "execute_result"
    }
   ],
   "source": [
    "#testing for equality\n",
    "a == 6"
   ]
  },
  {
   "cell_type": "code",
   "execution_count": 160,
   "metadata": {},
   "outputs": [
    {
     "data": {
      "text/plain": [
       "True"
      ]
     },
     "execution_count": 160,
     "metadata": {},
     "output_type": "execute_result"
    }
   ],
   "source": [
    "#you can also use is instead of == to test for equality, although sometimes problems emerge so == is more reliable\n",
    "a is 6"
   ]
  },
  {
   "cell_type": "markdown",
   "metadata": {},
   "source": [
    "## Floats and doubles\n",
    "For our present purposes, we wont worry too much about the difference between floats and doubles (if you are interested, read this: https://hackr.io/blog/float-vs-double), but just keep in mind that if you want to represent a number to more precision than just its integer value (i.e., include decimal points), the resulting data type is no longer an `int` but rather a `float` or `double`. See the examples below:"
   ]
  },
  {
   "cell_type": "code",
   "execution_count": 161,
   "metadata": {},
   "outputs": [
    {
     "data": {
      "text/plain": [
       "float"
      ]
     },
     "execution_count": 161,
     "metadata": {},
     "output_type": "execute_result"
    }
   ],
   "source": [
    "type(3.5)"
   ]
  },
  {
   "cell_type": "code",
   "execution_count": 162,
   "metadata": {},
   "outputs": [
    {
     "data": {
      "text/plain": [
       "float"
      ]
     },
     "execution_count": 162,
     "metadata": {},
     "output_type": "execute_result"
    }
   ],
   "source": [
    "type(9/2)"
   ]
  },
  {
   "cell_type": "markdown",
   "metadata": {},
   "source": [
    "## Lists\n",
    "Lists are defined by using square brackets `[]` and will contain a list of other data types. These other data types can be ints, strings, other lists, among other things. "
   ]
  },
  {
   "cell_type": "code",
   "execution_count": 59,
   "metadata": {},
   "outputs": [
    {
     "name": "stdout",
     "output_type": "stream",
     "text": [
      "[1, 4, 6]\n"
     ]
    }
   ],
   "source": [
    "list1 = [1, 4, 6]\n",
    "print(list1)"
   ]
  },
  {
   "cell_type": "code",
   "execution_count": 69,
   "metadata": {},
   "outputs": [
    {
     "name": "stdout",
     "output_type": "stream",
     "text": [
      "['apple', 'orange', 'pear']\n"
     ]
    }
   ],
   "source": [
    "list2 = ['apple', 'orange', 'pear']\n",
    "print(list2)"
   ]
  },
  {
   "cell_type": "code",
   "execution_count": 70,
   "metadata": {},
   "outputs": [
    {
     "name": "stdout",
     "output_type": "stream",
     "text": [
      "orange\n"
     ]
    }
   ],
   "source": [
    "#you can access a list element by indexing the list as follows. \n",
    "#Note that the first element in a python list is indexed as 0\n",
    "item = list2[1]\n",
    "\n",
    "print(item)"
   ]
  },
  {
   "cell_type": "code",
   "execution_count": 71,
   "metadata": {},
   "outputs": [
    {
     "name": "stdout",
     "output_type": "stream",
     "text": [
      "['apple', 'pear']\n"
     ]
    }
   ],
   "source": [
    "#you can remove an item in a list using the del command\n",
    "#here, i remove the first element, orange.\n",
    "del list2[1]\n",
    "print(list2)"
   ]
  },
  {
   "cell_type": "code",
   "execution_count": 74,
   "metadata": {},
   "outputs": [],
   "source": [
    "A = [1, 2, 3, 4, 5]\n",
    "B = A"
   ]
  },
  {
   "cell_type": "code",
   "execution_count": 167,
   "metadata": {},
   "outputs": [
    {
     "name": "stdout",
     "output_type": "stream",
     "text": [
      "['pear', 'watermelon', 'cherry', 'lime', 'lemon']\n"
     ]
    }
   ],
   "source": [
    "#you can access a range of elements using the following notation\n",
    "#here we access the 2nd to 7th elements in a list and assign it to a new list variable\n",
    "big_list = ['orange','apple','pear','watermelon','cherry','lime','lemon', 3, 6, ['list', 'of','other','things']]\n",
    "small_list = big_list[2:7]\n",
    "print(small_list)"
   ]
  },
  {
   "cell_type": "markdown",
   "metadata": {},
   "source": [
    "Often we will want to add items to our list. There are a few ways we can do this"
   ]
  },
  {
   "cell_type": "code",
   "execution_count": 78,
   "metadata": {},
   "outputs": [
    {
     "name": "stdout",
     "output_type": "stream",
     "text": [
      "[1, 2, 3, 4, 5, 6]\n"
     ]
    }
   ],
   "source": [
    "list1 = [1, 2, 3]\n",
    "list2 = [4, 5, 6]\n",
    "\n",
    "list3 = list1 + list2\n",
    "\n",
    "print(list3)"
   ]
  },
  {
   "cell_type": "code",
   "execution_count": 81,
   "metadata": {},
   "outputs": [
    {
     "data": {
      "text/plain": [
       "[1, 2, 3, 4]"
      ]
     },
     "execution_count": 81,
     "metadata": {},
     "output_type": "execute_result"
    }
   ],
   "source": [
    "list1 + [4]"
   ]
  },
  {
   "cell_type": "code",
   "execution_count": 82,
   "metadata": {},
   "outputs": [
    {
     "ename": "TypeError",
     "evalue": "can only concatenate list (not \"int\") to list",
     "output_type": "error",
     "traceback": [
      "\u001b[0;31m---------------------------------------------------------------------------\u001b[0m",
      "\u001b[0;31mTypeError\u001b[0m                                 Traceback (most recent call last)",
      "\u001b[0;32m<ipython-input-82-0b3b4d442676>\u001b[0m in \u001b[0;36m<module>\u001b[0;34m\u001b[0m\n\u001b[1;32m      1\u001b[0m \u001b[0;31m#notice how we recieve an error if we don't make our int 4 into a list (by wrapping it in [])\u001b[0m\u001b[0;34m\u001b[0m\u001b[0;34m\u001b[0m\u001b[0;34m\u001b[0m\u001b[0m\n\u001b[0;32m----> 2\u001b[0;31m \u001b[0mlist1\u001b[0m \u001b[0;34m+\u001b[0m \u001b[0;36m4\u001b[0m\u001b[0;34m\u001b[0m\u001b[0;34m\u001b[0m\u001b[0m\n\u001b[0m",
      "\u001b[0;31mTypeError\u001b[0m: can only concatenate list (not \"int\") to list"
     ]
    }
   ],
   "source": [
    "#notice how we recieve an error if we don't make our int 4 into a list (by wrapping it in [])\n",
    "list1 + 4"
   ]
  },
  {
   "cell_type": "code",
   "execution_count": 92,
   "metadata": {},
   "outputs": [
    {
     "name": "stdout",
     "output_type": "stream",
     "text": [
      "[1, 2, 3, 3, 5, 6]\n"
     ]
    }
   ],
   "source": [
    "# we can also use the append function\n",
    "list1 = [1, 2, 3]\n",
    "list2 = [3, 5, 6]\n",
    "\n",
    "for item in list2:\n",
    "    list1.append(item)\n",
    "\n",
    "print(list1)"
   ]
  },
  {
   "cell_type": "markdown",
   "metadata": {},
   "source": [
    "You can find the length of a list (how many elements are contained in it) by using the `len()` function. This will be very handy very soon!"
   ]
  },
  {
   "cell_type": "code",
   "execution_count": 89,
   "metadata": {},
   "outputs": [
    {
     "name": "stdout",
     "output_type": "stream",
     "text": [
      "5\n"
     ]
    }
   ],
   "source": [
    "list1 = [1, 2, 3, 4, 5]\n",
    "print(len(list1))"
   ]
  },
  {
   "cell_type": "code",
   "execution_count": 90,
   "metadata": {},
   "outputs": [
    {
     "name": "stdout",
     "output_type": "stream",
     "text": [
      "6\n"
     ]
    }
   ],
   "source": [
    "#why do you think the length is 4 and not 6?\n",
    "list2 = [1, 2, 3, 4, 5, 6]\n",
    "print(len(list2))"
   ]
  },
  {
   "cell_type": "code",
   "execution_count": 91,
   "metadata": {},
   "outputs": [
    {
     "name": "stdout",
     "output_type": "stream",
     "text": [
      "True\n"
     ]
    }
   ],
   "source": [
    "print(len(list1) < len(list2))"
   ]
  },
  {
   "cell_type": "markdown",
   "metadata": {},
   "source": [
    "## Sets\n",
    "Sets are similar to lists, but they don't maintain item order (so there is no indexing) and they don't maintain duplicate elements. You define a set by using curly braces `{}`"
   ]
  },
  {
   "cell_type": "code",
   "execution_count": 175,
   "metadata": {},
   "outputs": [
    {
     "name": "stdout",
     "output_type": "stream",
     "text": [
      "{1, 2, 3}\n"
     ]
    }
   ],
   "source": [
    "set1 = {1, 2, 3}\n",
    "print(set1)"
   ]
  },
  {
   "cell_type": "code",
   "execution_count": 100,
   "metadata": {},
   "outputs": [
    {
     "name": "stdout",
     "output_type": "stream",
     "text": [
      "{1, 2, 3, 4, 1.5, 'a'}\n"
     ]
    }
   ],
   "source": [
    "set2 = {1, 2, 3, 4, 3, 2, 1, 'a', 1.5}\n",
    "print(set2)"
   ]
  },
  {
   "cell_type": "markdown",
   "metadata": {},
   "source": [
    "## Dictionaries \n",
    "Dictionaries are similar to lists, but they assign a key-value pair to represent items. Dicts are defined using curly braces `{}` and must be provided at least one key-value pair, which takes the following form `key:value`. While values can be whatever data type you like (lists, integers, strings, other dictionaries), key's must be a string."
   ]
  },
  {
   "cell_type": "code",
   "execution_count": 178,
   "metadata": {},
   "outputs": [
    {
     "data": {
      "text/plain": [
       "{'key1': 1, 'key2': 'two', 'key3': [3]}"
      ]
     },
     "execution_count": 178,
     "metadata": {},
     "output_type": "execute_result"
    }
   ],
   "source": [
    "#here is a simple dict.\n",
    "simple_dict = {\n",
    "    'key1' : 1, \n",
    "    'key2' : 'two',\n",
    "    'key3' : [3]\n",
    "}\n",
    "simple_dict"
   ]
  },
  {
   "cell_type": "code",
   "execution_count": 179,
   "metadata": {},
   "outputs": [
    {
     "data": {
      "text/plain": [
       "{'fruits': ['orange', 'apple', 'pear'],\n",
       " 'soda': ['coke', 'dr. pepper'],\n",
       " 'vegetables': None}"
      ]
     },
     "execution_count": 179,
     "metadata": {},
     "output_type": "execute_result"
    }
   ],
   "source": [
    "shopping_list = {\n",
    "    'fruits': ['orange', 'apple','pear'],\n",
    "    'soda': ['coke','dr. pepper'],\n",
    "    'vegetables': None\n",
    "}\n",
    "shopping_list"
   ]
  },
  {
   "cell_type": "code",
   "execution_count": 180,
   "metadata": {},
   "outputs": [
    {
     "data": {
      "text/plain": [
       "['orange', 'apple', 'pear']"
      ]
     },
     "execution_count": 180,
     "metadata": {},
     "output_type": "execute_result"
    }
   ],
   "source": [
    "#we access values in a dict by indexing the dictionary with the key name\n",
    "shopping_list['fruits']"
   ]
  },
  {
   "cell_type": "code",
   "execution_count": 181,
   "metadata": {},
   "outputs": [
    {
     "name": "stdout",
     "output_type": "stream",
     "text": [
      "['orange', 'apple', 'pear', 'banana']\n"
     ]
    }
   ],
   "source": [
    "#we can easily add to our dictionary in one of two ways. First we can add an item to a key that is already present\n",
    "shopping_list['fruits'].append('banana')\n",
    "\n",
    "print(shopping_list['fruits'])"
   ]
  },
  {
   "cell_type": "code",
   "execution_count": 182,
   "metadata": {},
   "outputs": [],
   "source": [
    "#or we can create a new key and add it to the dictionary \n",
    "\n",
    "shopping_list['breads'] = 'Daves Killer Bread' "
   ]
  },
  {
   "cell_type": "code",
   "execution_count": 183,
   "metadata": {},
   "outputs": [
    {
     "data": {
      "text/plain": [
       "{'fruits': ['orange', 'apple', 'pear', 'banana'],\n",
       " 'soda': ['coke', 'dr. pepper'],\n",
       " 'vegetables': None,\n",
       " 'breads': 'Daves Killer Bread'}"
      ]
     },
     "execution_count": 183,
     "metadata": {},
     "output_type": "execute_result"
    }
   ],
   "source": [
    "shopping_list"
   ]
  },
  {
   "cell_type": "markdown",
   "metadata": {},
   "source": [
    "### Exercise 6\n",
    "Define a dictionary containing data that may be generated by an experiment with 3 participants. I will provide an example and then you create an example, try to use different key names (or experimental measures) than the one's I use in the example)."
   ]
  },
  {
   "cell_type": "code",
   "execution_count": null,
   "metadata": {},
   "outputs": [],
   "source": [
    "eg_experiment_data = {\n",
    "    'subjectID': [1, 2, 3],\n",
    "    'age': [23, 25, 20],\n",
    "    'rt': [34.44, 24.2, 55.3],\n",
    "    'condition': [1, 2, 1]\n",
    "}\n",
    "\n",
    "experiment_data = {\n",
    "    \n",
    "}"
   ]
  },
  {
   "cell_type": "markdown",
   "metadata": {},
   "source": [
    "## Control flows\n",
    "\n",
    "You may want to branch your code so it performs different operations given the truth values of other expressions. To do so you can use an if-else statement. The syntax follows: \n",
    "\n",
    "`if` _expression_ : \\\n",
    "$\\;\\;\\;\\;\\;\\;$ do something\n",
    "\n",
    "`elif` _expression_ : \\\n",
    "$\\;\\;\\;\\;\\;\\;$ do something else\n",
    "\n",
    "`else` : \\\n",
    "$\\;\\;\\;\\;\\;\\;$ do something else\n",
    "\n",
    "Note that the `elif` expression is optional, and if you only want a simple if-else statement you can drop it as follows: \n",
    "\n",
    "`if` _expression_ : \\\n",
    "$\\;\\;\\;\\;\\;\\;$ do something\n",
    "\n",
    "`else` : \\\n",
    "$\\;\\;\\;\\;\\;\\;$ do something else\n",
    "\n",
    "\n",
    "For more detailed information, see: https://www.w3schools.com/python/python_conditions.asp\n",
    "\n",
    "Let's look at a few examples to make this idea more concrete. "
   ]
  },
  {
   "cell_type": "code",
   "execution_count": 184,
   "metadata": {},
   "outputs": [
    {
     "name": "stdout",
     "output_type": "stream",
     "text": [
      "True\n"
     ]
    }
   ],
   "source": [
    "expression = 1 == 1\n",
    "\n",
    "if expression:\n",
    "    print(expression)\n",
    "else:\n",
    "    print(expression)"
   ]
  },
  {
   "cell_type": "code",
   "execution_count": 185,
   "metadata": {},
   "outputs": [
    {
     "name": "stdout",
     "output_type": "stream",
     "text": [
      "False\n"
     ]
    }
   ],
   "source": [
    "expression = 1 == 2\n",
    "\n",
    "if expression:\n",
    "    print(expression)\n",
    "else:\n",
    "    print(expression)"
   ]
  },
  {
   "cell_type": "code",
   "execution_count": 186,
   "metadata": {},
   "outputs": [
    {
     "name": "stdout",
     "output_type": "stream",
     "text": [
      "The expression evaluated as true!\n"
     ]
    }
   ],
   "source": [
    "expression = 1 == 1\n",
    "\n",
    "if expression:\n",
    "    print('The expression evaluated as true!')\n",
    "else:\n",
    "    print('The expression evaluated as :(')"
   ]
  },
  {
   "cell_type": "code",
   "execution_count": 187,
   "metadata": {},
   "outputs": [
    {
     "name": "stdout",
     "output_type": "stream",
     "text": [
      "The expression evaluated as :(\n"
     ]
    }
   ],
   "source": [
    "expression = 1 == 2\n",
    "\n",
    "if expression:\n",
    "    print('The expression evaluated as true!')\n",
    "else:\n",
    "    print('The expression evaluated as :(')"
   ]
  },
  {
   "cell_type": "code",
   "execution_count": 188,
   "metadata": {},
   "outputs": [
    {
     "name": "stdout",
     "output_type": "stream",
     "text": [
      "['pear', 'orange']\n"
     ]
    }
   ],
   "source": [
    "list1 = ['apples','pear','orange']\n",
    "\n",
    "if len(list1[0]) < 1:\n",
    "    print(list1[0])\n",
    "else:\n",
    "    #what do you think the syntax 1: is telling python to do? \n",
    "    print(list1[1:])"
   ]
  },
  {
   "cell_type": "markdown",
   "metadata": {},
   "source": [
    "## Loops\n",
    "We will now go over the basic ways to iterate over data types like lists and dicts. If you would like more information, check out this website https://www.w3schools.com/python/python_for_loops.asp\n",
    "\n",
    "We will focus on two types of loops the `for` loop and the `while` loop. "
   ]
  },
  {
   "cell_type": "markdown",
   "metadata": {},
   "source": [
    "### For loop\n",
    "The for loop will iterate over a list of items (either a list a dictionary or a set). When starting out, you will be using for loops more than while loops (although both do appear). I will provide a few examples of how you can use for loops.\n",
    "\n",
    "The syntax for defining a for loop is\n",
    "\n",
    "`for` _item_ in _variable_ : \\\n",
    "$\\;\\;\\;\\;\\;\\;$ do something\n",
    "\n",
    "\n",
    "You can put whatever label you want for _item_ , but the data type in _variable_ must be a data type that you can iterate over. You will then perform a series of computations with each item you pulled form the object you are iterating over. \n",
    "\n",
    "I will provide a few examlpes to make this clearer."
   ]
  },
  {
   "cell_type": "code",
   "execution_count": 117,
   "metadata": {},
   "outputs": [
    {
     "name": "stdout",
     "output_type": "stream",
     "text": [
      "a\n",
      "2\n",
      "[1, 2, 3]\n"
     ]
    }
   ],
   "source": [
    "list1 = ['a', 2 , [1, 2, 3]]\n",
    "\n",
    "for item in list1:\n",
    "    print(item)"
   ]
  },
  {
   "cell_type": "code",
   "execution_count": 190,
   "metadata": {},
   "outputs": [
    {
     "name": "stdout",
     "output_type": "stream",
     "text": [
      "a\n",
      "2\n",
      "[1, 2, 3]\n"
     ]
    }
   ],
   "source": [
    "#notice how my switching the label item to somethign else, the loop will still compute. \n",
    "\n",
    "for some_other_label in list1:\n",
    "    print(some_other_label)"
   ]
  },
  {
   "cell_type": "code",
   "execution_count": 118,
   "metadata": {},
   "outputs": [
    {
     "name": "stdout",
     "output_type": "stream",
     "text": [
      "[1, 2, 3]\n"
     ]
    }
   ],
   "source": [
    "list1 = ['a', 2 , [1, 2, 3]]\n",
    "\n",
    "for item in list1:\n",
    "    if type(item) == list:\n",
    "        print(item)"
   ]
  },
  {
   "cell_type": "code",
   "execution_count": 120,
   "metadata": {},
   "outputs": [
    {
     "name": "stdout",
     "output_type": "stream",
     "text": [
      "[2, 3, 4, 5]\n"
     ]
    }
   ],
   "source": [
    "list1 = ['a', 2 , 3, 4, 5, [1, 2, 3]]\n",
    "new_list = []\n",
    "\n",
    "for item in list1:\n",
    "    if type(item) == int:\n",
    "        new_list.append(item)\n",
    "        \n",
    "print(new_list)"
   ]
  },
  {
   "cell_type": "code",
   "execution_count": 193,
   "metadata": {},
   "outputs": [
    {
     "name": "stdout",
     "output_type": "stream",
     "text": [
      "apple is a string\n",
      "orange is a string\n",
      "pear is a string\n",
      "one is a string\n",
      "1 is an int\n",
      "two is a string\n",
      "2 is an int\n"
     ]
    }
   ],
   "source": [
    "list1 = ['apple','orange','pear','one', 1, 'two', 2]\n",
    "\n",
    "for item in list1:\n",
    "    \n",
    "    #instead of saying == to see if two variables equal one another, we can say is\n",
    "    if type(item) is str:\n",
    "        print('%s is a string' % item)\n",
    "    elif type(item) is int:\n",
    "        print('%d is an int' % item)"
   ]
  },
  {
   "cell_type": "markdown",
   "metadata": {},
   "source": [
    "### While loop\n",
    "The while loop will continue to run until an expression returns `false`. \n",
    "\n",
    "`while` _someExpression_ : \\\n",
    "$\\;\\;\\;\\;\\;\\;$ _do something_\n",
    "\n",
    "The program will continue to execute the code in the _do something_ block until the expression evalues to False (that is, as long as _someExpression_ evaluates as `True`, the program wont leave the loop)"
   ]
  },
  {
   "cell_type": "code",
   "execution_count": 123,
   "metadata": {},
   "outputs": [
    {
     "name": "stdout",
     "output_type": "stream",
     "text": [
      "Count is now at 10\n",
      "Count is now at 20\n",
      "Count is now at 30\n",
      "Count is now at 40\n",
      "Count is now at 50\n",
      "Count is now at 60\n",
      "Count is now at 70\n",
      "Count is now at 80\n",
      "Count is now at 90\n",
      "Count is now at 100\n"
     ]
    }
   ],
   "source": [
    "count = 0\n",
    "\n",
    "while count < 100:\n",
    "    count = count + 10\n",
    "    print('Count is now at %d' % count)"
   ]
  }
 ],
 "metadata": {
  "kernelspec": {
   "display_name": "Python 3 (ipykernel)",
   "language": "python",
   "name": "python3"
  },
  "language_info": {
   "codemirror_mode": {
    "name": "ipython",
    "version": 3
   },
   "file_extension": ".py",
   "mimetype": "text/x-python",
   "name": "python",
   "nbconvert_exporter": "python",
   "pygments_lexer": "ipython3",
   "version": "3.9.2"
  }
 },
 "nbformat": 4,
 "nbformat_minor": 4
}
