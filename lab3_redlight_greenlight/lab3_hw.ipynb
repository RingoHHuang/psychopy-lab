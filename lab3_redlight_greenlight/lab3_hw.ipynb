{
 "cells": [
  {
   "cell_type": "markdown",
   "id": "72a3aa6d",
   "metadata": {},
   "source": [
    "## Lab 3 Homework - Red Light, Green Light\n",
    "\n",
    "This lab homework will be based on the \"Red Light, Green Light\" experiment that we created during lab. The .psyexp file is uploaded in the Week 3 Lab folder. You will also need to download the \"resources\" folder as a sub-folder in the directory that the .psyexp file resides in.\n",
    "\n",
    "To do the problems in this assignment, you will modify some parts of the \"Red Light, Green Light\" .psyexp file. When email your HW submission, please attach your modified .psyexp file with the following naming onvention: redlight_greenlight_{yourname}.psyexp.\n",
    "\n",
    "You do not need to submit any other files - just submit redlight_greenlight_{yourname}.psyexp. Let me know if you have any questions!\n",
    "\n",
    "#### Problem 1: \n",
    "In the \"resources\" folder on CCLE, there's an image file called \"squid_game_doll_both.png\" that contains both the forward and backwards dolls. Please create an additional instruction routine that includes this image as well as a Text component displaying: \"Below are examples of the dolls that will be presented. When you see the doll facing you, do not respond, when you see the doll facing away from you, press the spacebar as fast as you can. Please also include a Keyboard component so that subjects can advance once they're done reading the instructions, and make the Text and Image components appear for a max of 20s.\n",
    "#### Problem 2:\n",
    "Change the duration that the image is presented on the screen to 0.8s, and the duration of the inter-stimulus interval (the gap after the image offset) to 0.4s.\n",
    "#### Problem 3:\n",
    "Let's randomize the image sequence list.In the code component of your trial routine, add `import random` to the top of the \"Begin Experiment\" panel. Then, at the end of the code, add `random.shuffle(im_sequence)` to shuffle the image sequence.\n",
    "#### Problem 4:\n",
    "Let's say we want the experiment to consist of **two** blocks, with the feedback be displayed at the end of each block. Implement this by using a block-level loop."
   ]
  }
 ],
 "metadata": {
  "kernelspec": {
   "display_name": "Python 3 (ipykernel)",
   "language": "python",
   "name": "python3"
  },
  "language_info": {
   "codemirror_mode": {
    "name": "ipython",
    "version": 3
   },
   "file_extension": ".py",
   "mimetype": "text/x-python",
   "name": "python",
   "nbconvert_exporter": "python",
   "pygments_lexer": "ipython3",
   "version": "3.9.2"
  }
 },
 "nbformat": 4,
 "nbformat_minor": 5
}
