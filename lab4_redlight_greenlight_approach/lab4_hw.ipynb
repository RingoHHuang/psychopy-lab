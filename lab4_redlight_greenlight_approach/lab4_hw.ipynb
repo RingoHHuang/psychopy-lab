{
 "cells": [
  {
   "cell_type": "markdown",
   "id": "9b27ea4c",
   "metadata": {},
   "source": [
    "## Lab 4 Homework - Red Light, Green Light, Approaching the Doll\n",
    "\n",
    "This homework assignment will guide you through the steps of creating a \"Congratulations\" animation when your participant completes the experiment. We will be using several components and some code that we learned in class to make this animation. These problems are more like step-by-step instructions, but the goal is to help you gain some hands-on familiarity with GUI elements and the coding used to manipulate GUI components.\n",
    "\n",
    "Please download the **entire lab4_hw folder (including sub-folders)** from Week 4 of CCLE. You will be doing this homework assignment by modifying the **redlight_greenlight_casino_{4MACS/4WINDOWS}.psyexp** file. The **resources** folder contain stimuli that are accessed in the experiment. There are two versions, redlight_greenlight_casino_4MACS.psyexp and redlight_greenlight_casino_4WINDOWS.psyexp. You will be using the one that corresponds to the OS you're working on. Macs and Windows use different file path separators (forward slash for Macs and back slash for Windows). In the instructions, I've specified where Mac users should use forward slash in the file name and Windows users should use backslash. \n",
    "\n",
    "You do not need to submit any other files - just submit your psychopy file named as **redlight_greenlight_casino_{yourname}.psyexp**.\n",
    "\n",
    "If anything in the instructions is confusing or if you're encountering annoying bugs, please email me and I'd be more than happy to clarify!\n",
    "\n",
    "#### The Objective\n",
    "Our objective is to create a \"congratulations\" screen. To overcomplicate things, we will use a loop and some conditional statements to create a casino-like animation sequence that cycles through each of the three dalgona shapes from Squid Game. We'll also add some \"casino\" background sound to top it off!\n",
    "\n",
    "#### Problem 1:\n",
    "We're going to first add all the components and set up their properties. Please follow these steps and copy the values to the fields of the Property window for each component.\n",
    "\n",
    "1. Insert a new routine called `congratulations` after the `trials` loop.\n",
    "2. Add an image component called `circle`. In the `circle` Properties window, enter the following values to these field:\n",
    "    - (Basic) Stop: 0.1 \n",
    "    - (Basic) Image: resources\\dalgona_circle.png (**Windows**); resources/dalgona_circle.png (**Mac**)\n",
    "    - (Layout) Size: (0.3, 0.3)\n",
    "    - (Layout) Position: (-0.5,0)\n",
    "    - (Appearance) Opacity: opacity_circle (change constant to **set every repeat**)\n",
    "3. Add another image component called `star` with these properties:\n",
    "    - (Basic) Stop: 0.1 \n",
    "    - *(Basic) Image: resources\\dalgona_star.png* (**Windows**); resources/dalgona_star.png (**Mac**)\n",
    "    - (Layout) Size: (0.3, 0.3)\n",
    "    - *(Layout) Position: (0,0)*\n",
    "    - *(Appearance) Opacity: opacity_star (change constant to **set every repeat**)*\n",
    "4. Add another image component called `triangle` with these properties:\n",
    "    - (Basic) Stop: 0.1 \n",
    "    - *(Basic) Image: resources\\dalgona_triangle.png* (**Windows**); resources/dalgona_trianglee.png (**Mac**)\n",
    "    - (Layout) Size: (0.3, 0.3)\n",
    "    - *(Layout) Position: (0.5,0)*\n",
    "    - *(Appearance) Opacity: opacity_triangle (change constant to **set every repeat**)*\n",
    "\n",
    "5. Add a text component called `next_game` with these properties:\n",
    "    - (Basic) Stop: 0.1\n",
    "    - (Basic) Text:\n",
    "    \n",
    "    \"Congratulations. You have passed the first game.\n",
    "\n",
    "    Please select a shape for the next game...\"\n",
    "    \n",
    "    \n",
    "    - (Layout) Position: (0, 0.3)\n",
    "    - (Formatting) Letter Height: .04\n",
    "6. Add a loop called `congrats_loop` around the `congratulations` routine.\n",
    "    - nReps: congrats_nReps\n",
    "\n",
    "#### Problem 2:\n",
    "Now, we want to create code that updates the opacity of the circle, star, and triangle images with each iteration.\n",
    "\n",
    "1. We want to randomly the number of repitions in this loop. First, add a new code component. Recall that in the `congrats_loop` properties, we pass in a variable called `congrats_nReps`. In the Begin Experiment tab, copy the following code:"
   ]
  },
  {
   "cell_type": "code",
   "execution_count": null,
   "id": "0ab8c38f",
   "metadata": {},
   "outputs": [],
   "source": [
    "# Randomly assign number of iteration.\n",
    "congrats_nReps = random.randrange(60,63)"
   ]
  },
  {
   "cell_type": "markdown",
   "id": "36d895c1",
   "metadata": {},
   "source": [
    "2. Next, we want to specify the opacity of the shapes, changing the opacity as the loop iterates. To do so, we make use of the modulus operator (that we learned about in lab 1! as a review, the modulus returns the **remainder** of a value divided by another value). Because we have three shapes, we want to set the opacities of the three shape sequentially, according to the current iteration of the loop (i.e., `thisRepN`). Copy and paste this code to the Begin Routine tab of your code component:"
   ]
  },
  {
   "cell_type": "code",
   "execution_count": null,
   "id": "63e2a043",
   "metadata": {},
   "outputs": [],
   "source": [
    "# Define the opacities of the 3 shapes depending on trial num\n",
    "if congrats_loop.thisRepN % 3 == 0:\n",
    "    opacities = [0.5, 0.5, 1]\n",
    "elif congrats_loop.thisRepN % 3 == 1:\n",
    "    opacities = [0.5, 1, 0.5]\n",
    "elif congrats_loop.thisRepN % 3 == 2:\n",
    "    opacities = [1, 0.5, 0.5]\n",
    "\n",
    "# Assign the opacity variable to its respective values\n",
    "opacity_circle = opacities[0]\n",
    "opacity_star = opacities[1]\n",
    "opacity_triangle = opacities[2]"
   ]
  },
  {
   "cell_type": "markdown",
   "id": "d4834ead",
   "metadata": {},
   "source": [
    "At this point, you can test your code to see how it works! **Tip:** when prompted, set the `hit_goal` field to 1, so that you can skip the bulk of the experiment and go straight to the `congratulations` routine as soon as you get 1 hit."
   ]
  },
  {
   "cell_type": "markdown",
   "id": "25ad8a3d",
   "metadata": {},
   "source": [
    "#### Problem 3:\n",
    "Now that we have the `congratulations` routine cycling through each shape, we want to make a duplicate routine that persists longer. We want the final selected shape to be presented on the screen for several seconds instead of just 0.5 s.\n",
    "\n",
    "1. To do this, we need to copy and paste the `congratulations` routine. Make sure the `congratulations` routine is selected. Then, go to \"Experiment -> Copy Routine\". After, go to \"Experiment -> Paste Routine\". A window should pop up asking you to name this new duplicate routine, call it `congratulations_static`. Now, in this `congratulations_static` routine, you should have duplicate components from the `congratulations` routine. \n",
    "2. Delete the code component. Right click the component and select \"remove\"\n",
    "3. Add a Keyboard component (call it whatever). Make sure Force end of Routine is checked and set Allowed keys to 'space'.\n",
    "4. Now, go through each of the components of the routine and set the **Stop** duration to 20.\n",
    "\n",
    "That's it! Now after the \"casino\" animation sequence, you have a routine that persists longer on the shape that was randomly selected.\n",
    "\n",
    "#### Problem 4:\n",
    "As a final touch, let's add some \"casino\" sounds to the background. In the resources folder, there is a \"casino_sound.wav\" file.\n",
    "\n",
    "Because we only want to play this once at the first iteration of the `congrats_loop`, we need to encapsulate the code that plays the casino sound in a conditional statement that checks for whether the current `thisRepN` is 0. Simply copy this code to the \"Begin Routine\" tab of your `congratulations` routine.\n",
    "\n",
    "Copy this code if you're using WINDOWS:"
   ]
  },
  {
   "cell_type": "code",
   "execution_count": null,
   "id": "2e3e7e77",
   "metadata": {},
   "outputs": [],
   "source": [
    "# WINDOWS version: Audio set up and play (only if on the first trial)\n",
    "if congrats_loop.thisRepN == 0:\n",
    "    casino_sound = sound.Sound('resources\\casino_sound.wav')\n",
    "    casino_sound.play()"
   ]
  },
  {
   "cell_type": "markdown",
   "id": "bda8490f",
   "metadata": {},
   "source": [
    "Copy this if you're using MAC:"
   ]
  },
  {
   "cell_type": "code",
   "execution_count": null,
   "id": "e17514e9",
   "metadata": {},
   "outputs": [],
   "source": [
    "# MAC version: Audio set up and play (only if on the first trial)\n",
    "if congrats_loop.thisRepN == 0:\n",
    "    casino_sound = sound.Sound('resources/casino_sound.wav')\n",
    "    casino_sound.play()"
   ]
  },
  {
   "cell_type": "markdown",
   "id": "3e5ea0c8",
   "metadata": {},
   "source": [
    "Now, run your program and see what shape you get!"
   ]
  }
 ],
 "metadata": {
  "kernelspec": {
   "display_name": "Python 3 (ipykernel)",
   "language": "python",
   "name": "python3"
  },
  "language_info": {
   "codemirror_mode": {
    "name": "ipython",
    "version": 3
   },
   "file_extension": ".py",
   "mimetype": "text/x-python",
   "name": "python",
   "nbconvert_exporter": "python",
   "pygments_lexer": "ipython3",
   "version": "3.9.2"
  }
 },
 "nbformat": 4,
 "nbformat_minor": 5
}
