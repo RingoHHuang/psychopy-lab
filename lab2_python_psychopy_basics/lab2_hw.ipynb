{
 "cells": [
  {
   "cell_type": "markdown",
   "id": "2ef69b92",
   "metadata": {},
   "source": [
    "## Lab 2 Homework\n",
    "### Name:\n",
    "### UID:"
   ]
  },
  {
   "cell_type": "markdown",
   "id": "4b38d40e",
   "metadata": {},
   "source": [
    "#### Problem 1 (Optional)\n",
    "In the lab handout, we learned to create a function that concatenates two strings separated by a space. Then, in the exercise, we created a function that concatenates multiple strings separated by spaces.\n",
    "\n",
    "(a) Create a similar function that allows you to concatenate string with delimiters. Note that this function should accept two arguments: a list of strings and a string that specifies the delimiter."
   ]
  },
  {
   "cell_type": "code",
   "execution_count": null,
   "id": "588ca9a7",
   "metadata": {},
   "outputs": [],
   "source": [
    "\n",
    "\n",
    "\n"
   ]
  },
  {
   "cell_type": "markdown",
   "id": "bccd0228",
   "metadata": {},
   "source": [
    "(b) You will now test the function that you created using the arguments supplied in the code block below. Call the function you created and pass in the two variables below as the input arguments of the function. The expected output should be: `Hello,,this,is,a,string`."
   ]
  },
  {
   "cell_type": "code",
   "execution_count": null,
   "id": "b63c7e1a",
   "metadata": {},
   "outputs": [],
   "source": [
    "list_of_strings = ['Hello,', 'this', 'is', 'a', 'string']\n",
    "delimiter = ','\n",
    "\n",
    "\n",
    "\n"
   ]
  },
  {
   "cell_type": "markdown",
   "id": "5459e0c9",
   "metadata": {},
   "source": [
    "#### Problem 2\n",
    "Below are some *hypothetical* \"TextBox\" and \"Keyboard\" classes with several attributes and methods. Note that these are **not** actual PsychoPy classes. These just mimic what the PsychoPy classes might do with \"dummy\" methods. The important concept to understand with this problem is how to instantiate, modify attributes, and call methods."
   ]
  },
  {
   "cell_type": "code",
   "execution_count": 6,
   "id": "433a8bf2",
   "metadata": {},
   "outputs": [],
   "source": [
    "class TextBox:\n",
    "    border = [0, 0, 1, 1]\n",
    "    color = [1, 1, 1]\n",
    "    background_color = [0, 0, 0]\n",
    "     \n",
    "    def __init__(self, text):\n",
    "        self.text = text\n",
    "        \n",
    "    def display(self):\n",
    "        print(f\"{self.text} is being presented on the screen\")\n",
    "     \n",
    "    def print_attributes(self):\n",
    "        print(f\"The border size is {self.border}. The color is {self.color}. The background color is {self.background_color}.\")\n",
    "\n",
    "\n",
    "class Keyboard:\n",
    "    rt = None\n",
    "    key = None\n",
    "    \n",
    "    def record_response(self, key, rt):\n",
    "        self.rt = rt\n",
    "        self.key = key\n",
    "    \n",
    "    def print_last_recorded_response(self):\n",
    "        print(f\"The last recorded response is {self.key}. The reaction time of the response is {self.rt}\")\n"
   ]
  },
  {
   "cell_type": "markdown",
   "id": "ec7a32d8",
   "metadata": {},
   "source": [
    "(a) Instantiate a `TextBox` and a `Keyboard` object. The text used in your `TextBox` object is \"persimmon\". You can assign the object to any variable name."
   ]
  },
  {
   "cell_type": "code",
   "execution_count": 7,
   "id": "fd43ec76",
   "metadata": {},
   "outputs": [],
   "source": [
    "# Create a new instance of TextBox with persimmon as the text:\n",
    "text = 'persimmon'\n",
    "\n",
    "\n",
    "# Create a new instance of Keyboard:\n",
    "\n",
    "\n"
   ]
  },
  {
   "cell_type": "markdown",
   "id": "4a46a66c",
   "metadata": {},
   "source": [
    "(b) Call the `print_attributes` method."
   ]
  },
  {
   "cell_type": "code",
   "execution_count": 9,
   "id": "2a833d7e",
   "metadata": {},
   "outputs": [
    {
     "name": "stdout",
     "output_type": "stream",
     "text": [
      "The border size is [0, 0, 1, 1]. The color is [1, 1, 1]. The background color is [0, 0, 0].\n"
     ]
    }
   ],
   "source": []
  },
  {
   "cell_type": "markdown",
   "id": "fe6ec09f",
   "metadata": {},
   "source": [
    "(c) Change the `color` attribute of your `TextBox` object to red (the relative RGB for red is [1, 0, 0]). Change the `background_color` attribute to green (the relative RGB for red is  [0, 1, 0]). Then, call the `print_attributes` method again."
   ]
  },
  {
   "cell_type": "code",
   "execution_count": null,
   "id": "cb2d248e",
   "metadata": {},
   "outputs": [],
   "source": [
    "# Change color and background_color to these colors:\n",
    "red_color = [1, 0, 0]\n",
    "green_color = [0, 1, 0]\n",
    "\n",
    "\n",
    "\n",
    "\n",
    "# Call print_attributes:\n",
    "\n",
    "\n"
   ]
  },
  {
   "cell_type": "markdown",
   "id": "c6960214",
   "metadata": {},
   "source": [
    "(d) Let's \"record a response\" with your Keyboard object. Call the `record_response` method, passing the `key` and `rt` supplied in the code block below as input arguments."
   ]
  },
  {
   "cell_type": "code",
   "execution_count": null,
   "id": "c0adcbd0",
   "metadata": {},
   "outputs": [],
   "source": [
    "# The key and rt to be used in the method call\n",
    "key = \"left arrow\"\n",
    "rt = \"2.43\"\n",
    "\n",
    "# Call the record_response method using the arguments above:\n",
    "\n",
    "\n"
   ]
  },
  {
   "cell_type": "markdown",
   "id": "2227902b",
   "metadata": {},
   "source": [
    "(e) Print the last recorded response using one of your Keyboard object's methods."
   ]
  },
  {
   "cell_type": "code",
   "execution_count": null,
   "id": "e0882219",
   "metadata": {},
   "outputs": [],
   "source": []
  },
  {
   "cell_type": "markdown",
   "id": "79c4d87d",
   "metadata": {},
   "source": [
    "(f) In a hypothetical experiment, we want to display \"Correct!\" or \"Incorrect :(\" feedback depending on the accuracy of the recorded response. Write a conditional `if..else` statement testing whether the `key` attribute in your Keyboard object matches the correct response `corr_resp` supplied in the code chunk below. If it matches, then set your TextBox object's `text` attribute to \"Correct!\". If it doesn't match, then set your TextBox object's `text` attribute to \"Incorrect :(\". (Hint: you can use `==` to test whether two strings are identical). Afterwards, call the `display` method of your TextBox object to display the feedback."
   ]
  },
  {
   "cell_type": "code",
   "execution_count": null,
   "id": "3285bc58",
   "metadata": {},
   "outputs": [],
   "source": [
    "# Correct Response\n",
    "corr_resp = \"right arrow\"\n",
    "\n",
    "# Create your conditional statement comparing corr_resp to resp. If they match, change the text attribute of your TextBox obj to \"Correct!\". If they don't, change it to \"Incorrect :(\"\n",
    " \n",
    "\n",
    "\n",
    "# Display TextBox using the display method of the TextBox obj:\n",
    "    \n",
    "\n"
   ]
  },
  {
   "cell_type": "markdown",
   "id": "89149e38",
   "metadata": {},
   "source": [
    "(g) Let's simulate an experiment with 5 trials. Provided in the code chunk below are a list of the 5 expected correct responses, `corr_resps`, and another list of the 5 recorded responses, `resps`. We want to display the \"Correct!\" or \"Incorrect :(\" feedback for each of the 5 trials. Using a `for` loop, check whether each recorded response matches the correct response, and give the appropriate feedback. I will add comments to help guide you through each step of the code; note that the tabbed comments indicate that these lines of code are within the `for` loop code block. You do not need to follow the same steps as outlined in the comments as long as the printed output is correct."
   ]
  },
  {
   "cell_type": "code",
   "execution_count": null,
   "id": "3ab096d2",
   "metadata": {},
   "outputs": [],
   "source": [
    "# Lists of correct responses and recorded responses (5 trials)\n",
    "corr_resps = [\"left arrow\", \"right arrow\", \"left arrow\", \"left arrow\", \"right arrow\"]\n",
    "resps = [\"left arrow\", \"right arrow\", \"right arrow\", \"left arrow\", \"left arrow\"]\n",
    "\n",
    "# Instantiate a new TextBox object (pass None as the input argument). You can use whatever variable name for your obj:\n",
    "\n",
    "\n",
    "# Add a for loop iterating through each of the 5 \"trials\". Use i as the variable name and range(0,5) as the iterable data type:\n",
    "\n",
    "    # Using i as the index, assign the ith element of each list to a variable (e.g., corr_resp and resp)\n",
    "\n",
    "    \n",
    "    # Create your conditional statement comparing corr_resp to resp. If they match, change the text attribute of your TextBox obj to \"Correct!\". If they don't, change it to \"Incorrect :(\"\n",
    "\n",
    "    \n",
    "    \n",
    "    # Call the display() method of your textbox object: \n",
    "    \n",
    "\n",
    "    "
   ]
  },
  {
   "cell_type": "code",
   "execution_count": null,
   "id": "035b0d4a",
   "metadata": {},
   "outputs": [],
   "source": []
  }
 ],
 "metadata": {
  "kernelspec": {
   "display_name": "Python 3 (ipykernel)",
   "language": "python",
   "name": "python3"
  },
  "language_info": {
   "codemirror_mode": {
    "name": "ipython",
    "version": 3
   },
   "file_extension": ".py",
   "mimetype": "text/x-python",
   "name": "python",
   "nbconvert_exporter": "python",
   "pygments_lexer": "ipython3",
   "version": "3.9.2"
  }
 },
 "nbformat": 4,
 "nbformat_minor": 5
}
