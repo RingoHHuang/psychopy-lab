{
 "cells": [
  {
   "cell_type": "markdown",
   "id": "6c0b5624",
   "metadata": {},
   "source": [
    "# Lab 5 Homework - Data!\n",
    "\n",
    "\n",
    "## Problem 1\n",
    "#### (a) If you haven't done so already, use `pip` to install the `pandas` packages to your computer by running the following code in command prompt (Windows) or terminal (Mac). If you are having trouble, please e-mail me:"
   ]
  },
  {
   "cell_type": "code",
   "execution_count": 14,
   "id": "b2ca36ac",
   "metadata": {},
   "outputs": [
    {
     "ename": "SyntaxError",
     "evalue": "invalid syntax (<ipython-input-14-4db5c70ff77a>, line 2)",
     "output_type": "error",
     "traceback": [
      "\u001b[0;36m  File \u001b[0;32m\"<ipython-input-14-4db5c70ff77a>\"\u001b[0;36m, line \u001b[0;32m2\u001b[0m\n\u001b[0;31m    py -m pip install pandas\u001b[0m\n\u001b[0m          ^\u001b[0m\n\u001b[0;31mSyntaxError\u001b[0m\u001b[0;31m:\u001b[0m invalid syntax\n"
     ]
    }
   ],
   "source": [
    "# Windows Users (command prompt):\n",
    "py -m pip install pandas\n",
    "\n",
    "# Mac Users (terminal):\n",
    "python3 -m pip install pandas"
   ]
  },
  {
   "cell_type": "markdown",
   "id": "bf759082",
   "metadata": {},
   "source": [
    "#### (b) Follow these steps to record data in your experiment. These are the same steps that were covered in the lab, but the goal is for you to go through the motions yourself and to try to understand each step and how they connect with each other:\n",
    "\n",
    "1. Create a new code component in the `trial` routine called `log_data`\n",
    "2. In the **Begin Experiment** tab, we will import modules that we need and initialize empty lists:"
   ]
  },
  {
   "cell_type": "code",
   "execution_count": 15,
   "id": "b4dd4213",
   "metadata": {},
   "outputs": [],
   "source": [
    "# import module\n",
    "import pandas as pd\n",
    "\n",
    "# initialize an empty session_list\n",
    "session_list = list()"
   ]
  },
  {
   "cell_type": "markdown",
   "id": "42556180",
   "metadata": {},
   "source": [
    "3. In the **End Routine** tab, we need to retrieve the `trial_type`, `resp`, and `rt`. We then put it in a list (trial-level), and then put that trial-level list in the session-level list:"
   ]
  },
  {
   "cell_type": "code",
   "execution_count": 16,
   "id": "8e53fb21",
   "metadata": {},
   "outputs": [
    {
     "ename": "NameError",
     "evalue": "name 'sequence' is not defined",
     "output_type": "error",
     "traceback": [
      "\u001b[0;31m---------------------------------------------------------------------------\u001b[0m",
      "\u001b[0;31mNameError\u001b[0m                                 Traceback (most recent call last)",
      "\u001b[0;32m<ipython-input-16-37f256b578a8>\u001b[0m in \u001b[0;36m<module>\u001b[0;34m\u001b[0m\n\u001b[1;32m      1\u001b[0m \u001b[0;31m### First part is to retrieve the trial data that you need:\u001b[0m\u001b[0;34m\u001b[0m\u001b[0;34m\u001b[0m\u001b[0;34m\u001b[0m\u001b[0m\n\u001b[1;32m      2\u001b[0m \u001b[0;31m# Is this a nogo or go trial?\u001b[0m\u001b[0;34m\u001b[0m\u001b[0;34m\u001b[0m\u001b[0;34m\u001b[0m\u001b[0m\n\u001b[0;32m----> 3\u001b[0;31m \u001b[0;32mif\u001b[0m \u001b[0msequence\u001b[0m\u001b[0;34m[\u001b[0m\u001b[0mtrials\u001b[0m\u001b[0;34m.\u001b[0m\u001b[0mthisRepN\u001b[0m\u001b[0;34m]\u001b[0m \u001b[0;34m==\u001b[0m \u001b[0;36m0\u001b[0m\u001b[0;34m:\u001b[0m\u001b[0;34m\u001b[0m\u001b[0;34m\u001b[0m\u001b[0m\n\u001b[0m\u001b[1;32m      4\u001b[0m     \u001b[0mtrial_type\u001b[0m \u001b[0;34m=\u001b[0m \u001b[0;34m\"go\"\u001b[0m\u001b[0;34m\u001b[0m\u001b[0;34m\u001b[0m\u001b[0m\n\u001b[1;32m      5\u001b[0m \u001b[0;32melif\u001b[0m \u001b[0msequence\u001b[0m\u001b[0;34m[\u001b[0m\u001b[0mtrials\u001b[0m\u001b[0;34m.\u001b[0m\u001b[0mthisRepN\u001b[0m\u001b[0;34m]\u001b[0m \u001b[0;34m==\u001b[0m \u001b[0;36m1\u001b[0m\u001b[0;34m:\u001b[0m\u001b[0;34m\u001b[0m\u001b[0;34m\u001b[0m\u001b[0m\n",
      "\u001b[0;31mNameError\u001b[0m: name 'sequence' is not defined"
     ]
    }
   ],
   "source": [
    "### First part is to retrieve the trial data that you need:\n",
    "# Is this a nogo or go trial?\n",
    "if sequence[trials.thisRepN] == 0:\n",
    "    trial_type = \"go\"\n",
    "elif sequence[trials.thisRepN] == 1:\n",
    "    trial_type = \"nogo\"\n",
    "    \n",
    "# Get rt and resp\n",
    "rt = task_kb.rt\n",
    "resp = task_kb.keys\n",
    "\n",
    "\n",
    "### Second part is to put these trial data into a trial_list list, and then to put the trial_list in the session_list\n",
    "# Add this to trial_list, then append trial_list to session_list:\n",
    "trial_list = [trial_type, resp, rt]\n",
    "\n",
    "# append the trial_list triplet to the session_list\n",
    "session_list.append(trial_list)"
   ]
  },
  {
   "cell_type": "markdown",
   "id": "5825ec0b",
   "metadata": {},
   "source": [
    "4. Create a new routine called `finished` and put it at the end of the Flow timeline. Add a code component called `write_data`. In the **Start Routine** panel, we need to write convert `session_list` from a list to a data frame, then output that data frame to a csv file. This csv file needs to contain the participant ID, so we also need to construct a `output_filepath` string:"
   ]
  },
  {
   "cell_type": "code",
   "execution_count": 17,
   "id": "88fd0c4c",
   "metadata": {},
   "outputs": [
    {
     "ename": "NameError",
     "evalue": "name 'expInfo' is not defined",
     "output_type": "error",
     "traceback": [
      "\u001b[0;31m---------------------------------------------------------------------------\u001b[0m",
      "\u001b[0;31mNameError\u001b[0m                                 Traceback (most recent call last)",
      "\u001b[0;32m<ipython-input-17-bf67402d64ba>\u001b[0m in \u001b[0;36m<module>\u001b[0;34m\u001b[0m\n\u001b[1;32m      3\u001b[0m \u001b[0;34m\u001b[0m\u001b[0m\n\u001b[1;32m      4\u001b[0m \u001b[0;31m# Concatenate output file path\u001b[0m\u001b[0;34m\u001b[0m\u001b[0;34m\u001b[0m\u001b[0;34m\u001b[0m\u001b[0m\n\u001b[0;32m----> 5\u001b[0;31m \u001b[0moutput_filepath\u001b[0m \u001b[0;34m=\u001b[0m \u001b[0;34m'sub-'\u001b[0m \u001b[0;34m+\u001b[0m \u001b[0mexpInfo\u001b[0m\u001b[0;34m[\u001b[0m\u001b[0;34m'participant'\u001b[0m\u001b[0;34m]\u001b[0m \u001b[0;34m+\u001b[0m \u001b[0;34m'_fa-'\u001b[0m \u001b[0;34m+\u001b[0m \u001b[0mexpInfo\u001b[0m\u001b[0;34m[\u001b[0m\u001b[0;34m'fa_outcome'\u001b[0m\u001b[0;34m]\u001b[0m \u001b[0;34m+\u001b[0m \u001b[0;34m'_redlight_greenlight.csv'\u001b[0m\u001b[0;34m\u001b[0m\u001b[0;34m\u001b[0m\u001b[0m\n\u001b[0m\u001b[1;32m      6\u001b[0m \u001b[0;34m\u001b[0m\u001b[0m\n\u001b[1;32m      7\u001b[0m \u001b[0;31m# Write data frame to csv file\u001b[0m\u001b[0;34m\u001b[0m\u001b[0;34m\u001b[0m\u001b[0;34m\u001b[0m\u001b[0m\n",
      "\u001b[0;31mNameError\u001b[0m: name 'expInfo' is not defined"
     ]
    }
   ],
   "source": [
    "# Put session_list in a data frame\n",
    "session_df = pd.DataFrame(session_list, columns = [\"trial_type\", \"resp\", \"rt\"])\n",
    "\n",
    "# Concatenate output file path\n",
    "output_filepath = 'sub-' + expInfo['participant'] + '_fa-' + expInfo['fa_outcome'] + '_redlight_greenlight.csv'\n",
    "\n",
    "# Write data frame to csv file\n",
    "session_df.to_csv(output_filepath)"
   ]
  },
  {
   "cell_type": "markdown",
   "id": "e9f46e07",
   "metadata": {},
   "source": [
    "#### (c) Now run the experiment. At the start-up prompt, enter your last name in the \"participant\" field. In the \"fa_outcome\" field, enter either 5 or 10 depending on the output of the code below (it will randomly assign you to 5 or 10). Then run the experiment. Once you're done with the experiment, a .csv data file should appear. **Please send me that .csv output** when you e-mail me the homework."
   ]
  },
  {
   "cell_type": "code",
   "execution_count": 33,
   "id": "c215cb62",
   "metadata": {},
   "outputs": [
    {
     "data": {
      "text/plain": [
       "10"
      ]
     },
     "execution_count": 33,
     "metadata": {},
     "output_type": "execute_result"
    }
   ],
   "source": [
    "import random\n",
    "random.choice([5,10])"
   ]
  },
  {
   "cell_type": "markdown",
   "id": "6bfc0b33",
   "metadata": {},
   "source": [
    "## Problem 2\n",
    "#### (a) Import `pandas` and read in your data output .csv file as a data frame (use the var name `session_df`). (Hint: if you do not remember how to use read csv files using `pandas`, refer to the documentation https://pandas.pydata.org/docs/reference/frame.html, and search for \"csv\" in the menu to find the method that you're looking for):"
   ]
  },
  {
   "cell_type": "code",
   "execution_count": 35,
   "id": "b74befe1",
   "metadata": {},
   "outputs": [],
   "source": [
    "# import pandas module:\n",
    "import pandas as pd\n",
    "\n",
    "# read in the .csv file as a data frame:\n",
    "\n",
    "session_df = pd.read_csv('sub-Chen_fa-10_redlight_greenlight.csv')\n"
   ]
  },
  {
   "cell_type": "markdown",
   "id": "edceb7aa",
   "metadata": {},
   "source": [
    "(b) Print the entire \"resp\" column from `session_df`:"
   ]
  },
  {
   "cell_type": "code",
   "execution_count": 42,
   "id": "1ce55a8e",
   "metadata": {},
   "outputs": [
    {
     "name": "stdout",
     "output_type": "stream",
     "text": [
      "0       NaN\n",
      "1       NaN\n",
      "2     space\n",
      "3     space\n",
      "4     space\n",
      "      ...  \n",
      "80    space\n",
      "81    space\n",
      "82    space\n",
      "83      NaN\n",
      "84    space\n",
      "Name: resp, Length: 85, dtype: object\n"
     ]
    }
   ],
   "source": [
    "# access a column:\n",
    "print (session_df[\"resp\"])\n"
   ]
  },
  {
   "cell_type": "markdown",
   "id": "751a1452",
   "metadata": {},
   "source": [
    "(c) Calculate the number of false alarms in your data and print your results (Hint: see the lab 5 worksheet):"
   ]
  },
  {
   "cell_type": "code",
   "execution_count": 41,
   "id": "9c930e96",
   "metadata": {},
   "outputs": [
    {
     "name": "stdout",
     "output_type": "stream",
     "text": [
      "0.06666666666666667\n"
     ]
    }
   ],
   "source": [
    "fa_la = (session_df[\"resp\"] == \"space\") & (session_df[\"trial_type\"] == \"nogo\")\n",
    "fa_count = sum(fa_la)\n",
    "nogo_count = sum(session_df.trial_type == 'nogo')\n",
    "fa_rate = fa_count/nogo_count\n",
    "print(fa_rate)"
   ]
  },
  {
   "cell_type": "code",
   "execution_count": null,
   "id": "f9abf2da",
   "metadata": {},
   "outputs": [],
   "source": []
  },
  {
   "cell_type": "code",
   "execution_count": null,
   "id": "cd4f0585",
   "metadata": {},
   "outputs": [],
   "source": []
  }
 ],
 "metadata": {
  "kernelspec": {
   "display_name": "Python 3",
   "language": "python",
   "name": "python3"
  },
  "language_info": {
   "codemirror_mode": {
    "name": "ipython",
    "version": 3
   },
   "file_extension": ".py",
   "mimetype": "text/x-python",
   "name": "python",
   "nbconvert_exporter": "python",
   "pygments_lexer": "ipython3",
   "version": "3.8.8"
  }
 },
 "nbformat": 4,
 "nbformat_minor": 5
}
